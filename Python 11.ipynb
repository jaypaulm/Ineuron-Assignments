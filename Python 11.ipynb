{
 "cells": [
  {
   "cell_type": "code",
   "execution_count": 1,
   "id": "94f12010",
   "metadata": {
    "scrolled": true
   },
   "outputs": [
    {
     "name": "stdout",
     "output_type": "stream",
     "text": [
      "Sorted Dictionary by Key: {'apple': 1, 'banana': 3, 'orange': 2}\n",
      "Sorted Dictionary by Value: {'apple': 1, 'orange': 2, 'banana': 3}\n"
     ]
    }
   ],
   "source": [
    "my_dict = {'banana': 3, 'apple': 1, 'orange': 2}\n",
    "\n",
    "# Sort by Key\n",
    "sorted_dict_by_key = dict(sorted(my_dict.items()))\n",
    "print(\"Sorted Dictionary by Key:\", sorted_dict_by_key)\n",
    "\n",
    "# Sort by Value\n",
    "sorted_dict_by_value = dict(sorted(my_dict.items(), key=lambda item: item[1]))\n",
    "print(\"Sorted Dictionary by Value:\", sorted_dict_by_value)\n"
   ]
  },
  {
   "cell_type": "code",
   "execution_count": 3,
   "id": "8d334941",
   "metadata": {},
   "outputs": [
    {
     "name": "stdout",
     "output_type": "stream",
     "text": [
      "The value for key 'd': Key not found\n",
      "The value for key 'd': Key not found\n"
     ]
    }
   ],
   "source": [
    "my_dict = {'a': 1, 'b': 2, 'c': 3}\n",
    "\n",
    "# Method 1: Using dict.get()\n",
    "key = 'd'\n",
    "value = my_dict.get(key, 'Key not found')\n",
    "print(f\"The value for key '{key}': {value}\")\n",
    "\n",
    "# Method 2: Using try-except\n",
    "try:\n",
    "    value = my_dict[key]\n",
    "except KeyError:\n",
    "    value = 'Key not found'\n",
    "print(f\"The value for key '{key}': {value}\")\n"
   ]
  },
  {
   "cell_type": "code",
   "execution_count": 4,
   "id": "718ea4f0",
   "metadata": {},
   "outputs": [
    {
     "name": "stdout",
     "output_type": "stream",
     "text": [
      "Dictionary with keys having multiple inputs: {'key1': ['value1', 'value2'], 'key2': ['value3']}\n"
     ]
    }
   ],
   "source": [
    "from collections import defaultdict\n",
    "\n",
    "# Using defaultdict\n",
    "multi_dict = defaultdict(list)\n",
    "multi_dict['key1'].append('value1')\n",
    "multi_dict['key1'].append('value2')\n",
    "multi_dict['key2'].append('value3')\n",
    "print(\"Dictionary with keys having multiple inputs:\", dict(multi_dict))\n"
   ]
  },
  {
   "cell_type": "code",
   "execution_count": 5,
   "id": "4821914b",
   "metadata": {},
   "outputs": [
    {
     "name": "stdout",
     "output_type": "stream",
     "text": [
      "Anagrams of eilnst: ['listen', 'silent', 'enlist']\n",
      "Anagrams of aehrt: ['heart', 'earth']\n"
     ]
    }
   ],
   "source": [
    "from collections import defaultdict\n",
    "\n",
    "def print_anagrams(words):\n",
    "    anagrams_dict = defaultdict(list)\n",
    "    for word in words:\n",
    "        sorted_word = ''.join(sorted(word))\n",
    "        anagrams_dict[sorted_word].append(word)\n",
    "\n",
    "    for key, value in anagrams_dict.items():\n",
    "        print(f\"Anagrams of {key}: {value}\")\n",
    "\n",
    "word_list = ['listen', 'silent', 'enlist', 'heart', 'earth']\n",
    "print_anagrams(word_list)\n"
   ]
  },
  {
   "cell_type": "code",
   "execution_count": 6,
   "id": "49807674",
   "metadata": {},
   "outputs": [
    {
     "name": "stdout",
     "output_type": "stream",
     "text": [
      "The 3th non-repeating character is: r\n"
     ]
    }
   ],
   "source": [
    "from collections import OrderedDict, Counter\n",
    "\n",
    "def kth_non_repeating_character(input_string, k):\n",
    "    char_counts = OrderedDict(Counter(input_string))\n",
    "    non_repeating_chars = [char for char, count in char_counts.items() if count == 1]\n",
    "    return non_repeating_chars[k-1] if len(non_repeating_chars) >= k else None\n",
    "\n",
    "input_string = \"geeksforgeeks\"\n",
    "k = 3\n",
    "result = kth_non_repeating_character(input_string, k)\n",
    "print(f\"The {k}th non-repeating character is: {result}\")\n"
   ]
  },
  {
   "cell_type": "code",
   "execution_count": 7,
   "id": "278f7736",
   "metadata": {},
   "outputs": [
    {
     "name": "stdout",
     "output_type": "stream",
     "text": [
      "Are binary representations of 8 and 4 anagrams? False\n"
     ]
    }
   ],
   "source": [
    "def are_binary_anagrams(num1, num2):\n",
    "    binary_num1 = bin(num1)[2:]\n",
    "    binary_num2 = bin(num2)[2:]\n",
    "    return sorted(binary_num1) == sorted(binary_num2)\n",
    "\n",
    "num1 = 8\n",
    "num2 = 4\n",
    "result = are_binary_anagrams(num1, num2)\n",
    "print(f\"Are binary representations of {num1} and {num2} anagrams? {result}\")\n"
   ]
  },
  {
   "cell_type": "code",
   "execution_count": 8,
   "id": "9d0b386d",
   "metadata": {},
   "outputs": [
    {
     "name": "stdout",
     "output_type": "stream",
     "text": [
      "Size of the largest subset of anagram words: 3\n"
     ]
    }
   ],
   "source": [
    "from collections import Counter\n",
    "\n",
    "def largest_anagram_subset(words):\n",
    "    anagram_counts = Counter(''.join(sorted(word)) for word in words)\n",
    "    max_count = max(anagram_counts.values(), default=0)\n",
    "    return max_count\n",
    "\n",
    "word_list = ['listen', 'silent', 'enlist', 'heart', 'earth']\n",
    "result = largest_anagram_subset(word_list)\n",
    "print(\"Size of the largest subset of anagram words:\", result)\n"
   ]
  },
  {
   "cell_type": "code",
   "execution_count": 9,
   "id": "5aa37f97",
   "metadata": {},
   "outputs": [
    {
     "name": "stdout",
     "output_type": "stream",
     "text": [
      "Sentence after removing duplicate words: is great fun and Python\n"
     ]
    }
   ],
   "source": [
    "def remove_duplicate_words(sentence):\n",
    "    words = sentence.split()\n",
    "    unique_words = set(words)\n",
    "    result = ' '.join(unique_words)\n",
    "    return result\n",
    "\n",
    "input_sentence = \"Python is great and Python is fun\"\n",
    "result = remove_duplicate_words(input_sentence)\n",
    "print(\"Sentence after removing duplicate words:\", result)\n"
   ]
  },
  {
   "cell_type": "code",
   "execution_count": 10,
   "id": "349c5e50",
   "metadata": {},
   "outputs": [
    {
     "name": "stdout",
     "output_type": "stream",
     "text": [
      "String after mirroring characters: dbpqbed\n"
     ]
    }
   ],
   "source": [
    "def mirror_characters(input_string):\n",
    "    mirror_dict = {'p': 'q', 'q': 'p', 'b': 'd', 'd': 'b'}\n",
    "    mirrored_string = ''.join(mirror_dict.get(char, char) for char in input_string[::-1])\n",
    "    return mirrored_string\n",
    "\n",
    "input_string = \"bedpqdb\"\n",
    "result = mirror_characters(input_string)\n",
    "print(\"String after mirroring characters:\", result)\n"
   ]
  },
  {
   "cell_type": "code",
   "execution_count": 11,
   "id": "543bdc8c",
   "metadata": {},
   "outputs": [
    {
     "name": "stdout",
     "output_type": "stream",
     "text": [
      "Frequencies in the list: {1: 2, 2: 2, 3: 2, 4: 1, 5: 1}\n"
     ]
    }
   ],
   "source": [
    "def count_frequencies(my_list):\n",
    "    frequency_dict = {}\n",
    "    for item in my_list:\n",
    "        frequency_dict[item] = frequency_dict.get(item, 0) + 1\n",
    "    return frequency_dict\n",
    "\n",
    "my_list = [1, 2, 3, 1, 2, 3, 4, 5]\n",
    "result = count_frequencies(my_list)\n",
    "print(\"Frequencies in the list:\", result)\n"
   ]
  },
  {
   "cell_type": "code",
   "execution_count": null,
   "id": "fa3dda83",
   "metadata": {},
   "outputs": [],
   "source": []
  }
 ],
 "metadata": {
  "kernelspec": {
   "display_name": "Python 3 (ipykernel)",
   "language": "python",
   "name": "python3"
  },
  "language_info": {
   "codemirror_mode": {
    "name": "ipython",
    "version": 3
   },
   "file_extension": ".py",
   "mimetype": "text/x-python",
   "name": "python",
   "nbconvert_exporter": "python",
   "pygments_lexer": "ipython3",
   "version": "3.11.3"
  }
 },
 "nbformat": 4,
 "nbformat_minor": 5
}
