{
 "cells": [
  {
   "cell_type": "code",
   "execution_count": 1,
   "id": "c4190d52",
   "metadata": {},
   "outputs": [
    {
     "name": "stdout",
     "output_type": "stream",
     "text": [
      "Joined Tuples: [('apple',), (1, 'banana'), (2, 'orange', 'grape'), (3, 'peach')]\n"
     ]
    }
   ],
   "source": [
    "def join_tuples(tuples_list):\n",
    "    result = []\n",
    "    current_tuple = ()\n",
    "    for tpl in tuples_list:\n",
    "        if not current_tuple or current_tuple[0] == tpl[0]:\n",
    "            current_tuple += tpl[1:]\n",
    "        else:\n",
    "            result.append(current_tuple)\n",
    "            current_tuple = tpl\n",
    "    result.append(current_tuple)\n",
    "    return result\n",
    "\n",
    "tuples_list = [(1, 'apple'), (1, 'banana'), (2, 'orange'), (2, 'grape'), (3, 'peach')]\n",
    "result = join_tuples(tuples_list)\n",
    "print(\"Joined Tuples:\", result)\n"
   ]
  },
  {
   "cell_type": "code",
   "execution_count": 4,
   "id": "fd0a01f5",
   "metadata": {},
   "outputs": [
    {
     "name": "stdout",
     "output_type": "stream",
     "text": [
      "Extracted Digits: [1, 2, 3, 4, 5, 6, 7, 8, 9, 1, 0, 1, 1, 1, 2, 1, 3]\n"
     ]
    }
   ],
   "source": [
    "def extract_digits(tuple_list):\n",
    "    digits = [digit for tpl in tuple_list for digit in str(tpl) if digit.isdigit()]\n",
    "    return list(map(int, digits))\n",
    "\n",
    "tuple_list = [(1, 23, 4), (5, 6, 789), (101, 112, 13)]\n",
    "result = extract_digits(tuple_list)\n",
    "print(\"Extracted Digits:\", result)\n"
   ]
  },
  {
   "cell_type": "code",
   "execution_count": 3,
   "id": "7a0a064e",
   "metadata": {},
   "outputs": [
    {
     "name": "stdout",
     "output_type": "stream",
     "text": [
      "All pair combinations of 2 tuples: [(1, 'a'), (1, 'b'), (2, 'a'), (2, 'b')]\n"
     ]
    }
   ],
   "source": [
    "from itertools import product\n",
    "\n",
    "def all_pair_combinations(tuple1, tuple2):\n",
    "    combinations = list(product(tuple1, tuple2))\n",
    "    return combinations\n",
    "\n",
    "tuple1 = (1, 2)\n",
    "tuple2 = ('a', 'b')\n",
    "result = all_pair_combinations(tuple1, tuple2)\n",
    "print(\"All pair combinations of 2 tuples:\", result)\n"
   ]
  },
  {
   "cell_type": "code",
   "execution_count": 5,
   "id": "d39f57c1",
   "metadata": {},
   "outputs": [
    {
     "name": "stdout",
     "output_type": "stream",
     "text": [
      "Tuples after removing length 2: []\n"
     ]
    }
   ],
   "source": [
    "def remove_tuples_of_length_k(tuple_list, k):\n",
    "    result = [tpl for tpl in tuple_list if len(tpl) != k]\n",
    "    return result\n",
    "\n",
    "tuple_list = [(1, 'apple'), (2, 'banana'), (3, 'orange'), (4, 'grape')]\n",
    "k = 2\n",
    "result = remove_tuples_of_length_k(tuple_list, k)\n",
    "print(f\"Tuples after removing length {k}:\", result)\n"
   ]
  },
  {
   "cell_type": "code",
   "execution_count": 6,
   "id": "524a48a4",
   "metadata": {},
   "outputs": [
    {
     "name": "stdout",
     "output_type": "stream",
     "text": [
      "Sorted list of tuples by second item: [(3, 'apple'), (1, 'banana'), (4, 'grape'), (2, 'orange')]\n"
     ]
    }
   ],
   "source": [
    "def sort_tuples_by_second_item(tuple_list):\n",
    "    result = sorted(tuple_list, key=lambda x: x[1])\n",
    "    return result\n",
    "\n",
    "tuple_list = [(1, 'banana'), (3, 'apple'), (2, 'orange'), (4, 'grape')]\n",
    "result = sort_tuples_by_second_item(tuple_list)\n",
    "print(\"Sorted list of tuples by second item:\", result)\n"
   ]
  },
  {
   "cell_type": "code",
   "execution_count": 7,
   "id": "4ad7aa00",
   "metadata": {},
   "outputs": [
    {
     "name": "stdout",
     "output_type": "stream",
     "text": [
      "Ordered list of tuples: [('orange', 2), ('banana', 1), ('apple', 3)]\n"
     ]
    }
   ],
   "source": [
    "def order_tuples(tuple_list, order_list):\n",
    "    result = sorted(tuple_list, key=lambda x: order_list.index(x[0]))\n",
    "    return result\n",
    "\n",
    "tuple_list = [('apple', 3), ('orange', 2), ('banana', 1)]\n",
    "order_list = ['orange', 'banana', 'apple']\n",
    "result = order_tuples(tuple_list, order_list)\n",
    "print(\"Ordered list of tuples:\", result)\n"
   ]
  },
  {
   "cell_type": "code",
   "execution_count": 8,
   "id": "93e79a9b",
   "metadata": {},
   "outputs": [
    {
     "name": "stdout",
     "output_type": "stream",
     "text": [
      "Flattened tuple: (1, 2, 3, 'a', 'b', 4, 5)\n"
     ]
    }
   ],
   "source": [
    "def flatten_tuple_of_lists(tuple_of_lists):\n",
    "    result = tuple(item for sublist in tuple_of_lists for item in sublist)\n",
    "    return result\n",
    "\n",
    "tuple_of_lists = ([1, 2, 3], ['a', 'b'], [4, 5])\n",
    "result = flatten_tuple_of_lists(tuple_of_lists)\n",
    "print(\"Flattened tuple:\", result)\n"
   ]
  },
  {
   "cell_type": "code",
   "execution_count": 9,
   "id": "2333c4e3",
   "metadata": {
    "scrolled": true
   },
   "outputs": [
    {
     "name": "stdout",
     "output_type": "stream",
     "text": [
      "Converted dictionary: {'a': [1], 'b': [2], 'c': [3]}\n"
     ]
    }
   ],
   "source": [
    "def nested_tuple_to_dict(nested_tuple):\n",
    "    result = {key: value for key, *value in nested_tuple}\n",
    "    return result\n",
    "\n",
    "nested_tuple = [('a', 1), ('b', 2), ('c', 3)]\n",
    "result = nested_tuple_to_dict(nested_tuple)\n",
    "print(\"Converted dictionary:\", result)\n"
   ]
  },
  {
   "cell_type": "code",
   "execution_count": 11,
   "id": "5e44c78f",
   "metadata": {},
   "outputs": [
    {
     "name": "stdout",
     "output_type": "stream",
     "text": [
      "Element 5 is present at index 4 (using recursive binary search)\n",
      "Element 5 is present at index 4 (using iterative binary search)\n"
     ]
    }
   ],
   "source": [
    "arr = [1, 2, 3, 4, 5, 6, 7, 8, 9]\n",
    "x = 5\n",
    "\n",
    "# Recursive Binary Search\n",
    "result_recursive = binary_search_recursive(arr, 0, len(arr) - 1, x)\n",
    "if result_recursive != -1:\n",
    "    print(f\"Element {x} is present at index {result_recursive} (using recursive binary search)\")\n",
    "else:\n",
    "    print(f\"Element {x} is not present in the array (using recursive binary search)\")\n",
    "\n",
    "# Iterative Binary Search\n",
    "result_iterative = binary_search_iterative(arr, x)\n",
    "if result_iterative != -1:\n",
    "    print(f\"Element {x} is present at index {result_iterative} (using iterative binary search)\")\n",
    "else:\n",
    "    print(f\"Element {x} is not present in the array (using iterative binary search)\")\n"
   ]
  },
  {
   "cell_type": "code",
   "execution_count": 12,
   "id": "3060e616",
   "metadata": {},
   "outputs": [
    {
     "name": "stdout",
     "output_type": "stream",
     "text": [
      "Element 5 is present at index 4 (using linear search)\n"
     ]
    }
   ],
   "source": [
    "def linear_search(arr, x):\n",
    "    for i in range(len(arr)):\n",
    "        if arr[i] == x:\n",
    "            return i\n",
    "    return -1\n",
    "\n",
    "# Example Usage\n",
    "arr = [1, 2, 3, 4, 5, 6, 7, 8, 9]\n",
    "x = 5\n",
    "\n",
    "result = linear_search(arr, x)\n",
    "\n",
    "if result != -1:\n",
    "    print(f\"Element {x} is present at index {result} (using linear search)\")\n",
    "else:\n",
    "    print(f\"Element {x} is not present in the array (using linear search)\")\n"
   ]
  },
  {
   "cell_type": "code",
   "execution_count": 13,
   "id": "7d9c71c7",
   "metadata": {},
   "outputs": [
    {
     "name": "stdout",
     "output_type": "stream",
     "text": [
      "Original Array: [12, 11, 13, 5, 6]\n",
      "Sorted Array using Insertion Sort: [5, 6, 11, 12, 13]\n"
     ]
    }
   ],
   "source": [
    "def insertion_sort(arr):\n",
    "    for i in range(1, len(arr)):\n",
    "        key = arr[i]\n",
    "        j = i - 1\n",
    "        while j >= 0 and key < arr[j]:\n",
    "            arr[j + 1] = arr[j]\n",
    "            j -= 1\n",
    "        arr[j + 1] = key\n",
    "\n",
    "# Example Usage\n",
    "arr = [12, 11, 13, 5, 6]\n",
    "print(\"Original Array:\", arr)\n",
    "\n",
    "insertion_sort(arr)\n",
    "\n",
    "print(\"Sorted Array using Insertion Sort:\", arr)\n"
   ]
  },
  {
   "cell_type": "code",
   "execution_count": null,
   "id": "074b850e",
   "metadata": {},
   "outputs": [],
   "source": []
  }
 ],
 "metadata": {
  "kernelspec": {
   "display_name": "Python 3 (ipykernel)",
   "language": "python",
   "name": "python3"
  },
  "language_info": {
   "codemirror_mode": {
    "name": "ipython",
    "version": 3
   },
   "file_extension": ".py",
   "mimetype": "text/x-python",
   "name": "python",
   "nbconvert_exporter": "python",
   "pygments_lexer": "ipython3",
   "version": "3.11.3"
  }
 },
 "nbformat": 4,
 "nbformat_minor": 5
}
