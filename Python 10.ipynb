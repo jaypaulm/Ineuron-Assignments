{
 "cells": [
  {
   "cell_type": "code",
   "execution_count": 2,
   "id": "952bed16",
   "metadata": {},
   "outputs": [
    {
     "name": "stdout",
     "output_type": "stream",
     "text": [
      "Dictionary after removing key: {'a': 1, 'c': 3}\n",
      "Dictionary after removing key using pop: {'a': 1}\n"
     ]
    }
   ],
   "source": [
    "# Method 1: Using del\n",
    "def remove_key(dictionary, key_to_remove):\n",
    "    if key_to_remove in dictionary:\n",
    "        del dictionary[key_to_remove]\n",
    "\n",
    "# Method 2: Using pop()\n",
    "def remove_key_pop(dictionary, key_to_remove):\n",
    "    dictionary.pop(key_to_remove, None)\n",
    "\n",
    "my_dict = {'a': 1, 'b': 2, 'c': 3}\n",
    "remove_key(my_dict, 'b')\n",
    "print(\"Dictionary after removing key:\", my_dict)\n",
    "\n",
    "remove_key_pop(my_dict, 'c')\n",
    "print(\"Dictionary after removing key using pop:\", my_dict)\n"
   ]
  },
  {
   "cell_type": "code",
   "execution_count": 3,
   "id": "75ff5a22",
   "metadata": {},
   "outputs": [
    {
     "name": "stdout",
     "output_type": "stream",
     "text": [
      "Sorted list by age: [{'name': 'Bob', 'age': 22}, {'name': 'John', 'age': 25}, {'name': 'Alice', 'age': 30}]\n"
     ]
    }
   ],
   "source": [
    "from operator import itemgetter\n",
    "\n",
    "list_of_dicts = [{'name': 'John', 'age': 25}, {'name': 'Alice', 'age': 30}, {'name': 'Bob', 'age': 22}]\n",
    "\n",
    "sorted_list = sorted(list_of_dicts, key=itemgetter('age'))\n",
    "print(\"Sorted list by age:\", sorted_list)\n"
   ]
  },
  {
   "cell_type": "code",
   "execution_count": 4,
   "id": "b6e3cb6e",
   "metadata": {},
   "outputs": [
    {
     "name": "stdout",
     "output_type": "stream",
     "text": [
      "Sorted list by age: [{'name': 'Bob', 'age': 22}, {'name': 'John', 'age': 25}, {'name': 'Alice', 'age': 30}]\n"
     ]
    }
   ],
   "source": [
    "list_of_dicts = [{'name': 'John', 'age': 25}, {'name': 'Alice', 'age': 30}, {'name': 'Bob', 'age': 22}]\n",
    "\n",
    "sorted_list = sorted(list_of_dicts, key=lambda x: x['age'])\n",
    "print(\"Sorted list by age:\", sorted_list)\n"
   ]
  },
  {
   "cell_type": "code",
   "execution_count": 6,
   "id": "c257c19a",
   "metadata": {},
   "outputs": [
    {
     "name": "stdout",
     "output_type": "stream",
     "text": [
      "Merged Dictionary: {'a': 1, 'b': 3, 'c': 4}\n",
      "Merged Dictionary: {'a': 1, 'b': 3, 'c': 4}\n"
     ]
    }
   ],
   "source": [
    "# Method 1: Using the update() method\n",
    "dict1 = {'a': 1, 'b': 2}\n",
    "dict2 = {'b': 3, 'c': 4}\n",
    "dict1.update(dict2)\n",
    "print(\"Merged Dictionary:\", dict1)\n",
    "\n",
    "# Method 2: Using the {**d1, **d2} syntax (Python 3.5 and above)\n",
    "dict1 = {'a': 1, 'b': 2}\n",
    "dict2 = {'b': 3, 'c': 4}\n",
    "merged_dict = {**dict1, **dict2}\n",
    "print(\"Merged Dictionary:\", merged_dict)\n"
   ]
  },
  {
   "cell_type": "code",
   "execution_count": 7,
   "id": "45f63ef9",
   "metadata": {},
   "outputs": [
    {
     "name": "stdout",
     "output_type": "stream",
     "text": [
      "Flat Dictionary: {'a': 1, 'b': 2, 'c': 3}\n"
     ]
    }
   ],
   "source": [
    "key_values_list = [('a', 1), ('b', 2), ('c', 3)]\n",
    "flat_dict = dict(key_values_list)\n",
    "print(\"Flat Dictionary:\", flat_dict)\n"
   ]
  },
  {
   "cell_type": "code",
   "execution_count": 8,
   "id": "b6f24b3d",
   "metadata": {},
   "outputs": [
    {
     "name": "stdout",
     "output_type": "stream",
     "text": [
      "OrderedDict after insertion at the beginning: OrderedDict([('c', 3), ('a', 1), ('b', 2)])\n"
     ]
    }
   ],
   "source": [
    "from collections import OrderedDict\n",
    "\n",
    "ordered_dict = OrderedDict([('a', 1), ('b', 2)])\n",
    "ordered_dict.update({'c': 3})\n",
    "ordered_dict.move_to_end('c', last=False)\n",
    "print(\"OrderedDict after insertion at the beginning:\", ordered_dict)\n"
   ]
  },
  {
   "cell_type": "code",
   "execution_count": 9,
   "id": "b1bf143f",
   "metadata": {},
   "outputs": [
    {
     "name": "stdout",
     "output_type": "stream",
     "text": [
      "Does the order of characters 'er' exist in 'engineers rock'? True\n"
     ]
    }
   ],
   "source": [
    "from collections import OrderedDict\n",
    "\n",
    "def check_order(string, pattern):\n",
    "    pattern_dict = OrderedDict.fromkeys(pattern)\n",
    "    j = 0\n",
    "    for key in pattern_dict:\n",
    "        if key in string[j:]:\n",
    "            j = string.index(key, j) + 1\n",
    "        else:\n",
    "            return False\n",
    "    return True\n",
    "\n",
    "input_string = \"engineers rock\"\n",
    "pattern = \"er\"\n",
    "result = check_order(input_string, pattern)\n",
    "print(f\"Does the order of characters '{pattern}' exist in '{input_string}'? {result}\")\n"
   ]
  },
  {
   "cell_type": "code",
   "execution_count": 10,
   "id": "e3fd2d54",
   "metadata": {},
   "outputs": [
    {
     "name": "stdout",
     "output_type": "stream",
     "text": [
      "Winner of the election: john\n"
     ]
    }
   ],
   "source": [
    "from collections import Counter\n",
    "\n",
    "votes = ['john', 'john', 'alice', 'bob', 'alice', 'bob', 'bob', 'alice', 'john']\n",
    "vote_count = Counter(votes)\n",
    "winner = vote_count.most_common(1)[0][0]\n",
    "print(\"Winner of the election:\", winner)\n"
   ]
  },
  {
   "cell_type": "code",
   "execution_count": 11,
   "id": "9e2962a9",
   "metadata": {},
   "outputs": [
    {
     "name": "stdout",
     "output_type": "stream",
     "text": [
      "Dictionary after appending keys and values: {'a': 1, 'b': 2, 'c': 3, 'appended': [('a', 1), ('b', 2), ('c', 3)]}\n"
     ]
    }
   ],
   "source": [
    "def append_keys_and_values(dictionary):\n",
    "    keys_and_values = list(dictionary.items())\n",
    "    new_dict = {**dictionary, 'appended': keys_and_values}\n",
    "    return new_dict\n",
    "\n",
    "my_dict = {'a': 1, 'b': 2, 'c': 3}\n",
    "result_dict = append_keys_and_values(my_dict)\n",
    "print(\"Dictionary after appending keys and values:\", result_dict)\n"
   ]
  },
  {
   "cell_type": "code",
   "execution_count": 12,
   "id": "b82de594",
   "metadata": {},
   "outputs": [
    {
     "name": "stdout",
     "output_type": "stream",
     "text": [
      "Sorted Dictionary by Key: {'apple': 1, 'banana': 3, 'orange': 2}\n",
      "Sorted Dictionary by Value: {'apple': 1, 'orange': 2, 'banana': 3}\n"
     ]
    }
   ],
   "source": [
    "# Sort by Key\n",
    "my_dict = {'banana': 3, 'apple': 1, 'orange': 2}\n",
    "sorted_dict_by_key = dict(sorted(my_dict.items()))\n",
    "print(\"Sorted Dictionary by Key:\", sorted_dict_by_key)\n",
    "\n",
    "# Sort by Value\n",
    "sorted_dict_by_value = dict(sorted(my_dict.items(), key=lambda item: item[1]))\n",
    "print(\"Sorted Dictionary by Value:\", sorted_dict_by_value)\n"
   ]
  },
  {
   "cell_type": "code",
   "execution_count": null,
   "id": "d0379d7e",
   "metadata": {},
   "outputs": [],
   "source": []
  }
 ],
 "metadata": {
  "kernelspec": {
   "display_name": "Python 3 (ipykernel)",
   "language": "python",
   "name": "python3"
  },
  "language_info": {
   "codemirror_mode": {
    "name": "ipython",
    "version": 3
   },
   "file_extension": ".py",
   "mimetype": "text/x-python",
   "name": "python",
   "nbconvert_exporter": "python",
   "pygments_lexer": "ipython3",
   "version": "3.11.3"
  }
 },
 "nbformat": 4,
 "nbformat_minor": 5
}
