{
 "cells": [
  {
   "cell_type": "code",
   "execution_count": 1,
   "id": "a60e0a0b",
   "metadata": {},
   "outputs": [
    {
     "name": "stdout",
     "output_type": "stream",
     "text": [
      "Topological Sorting: [5, 4, 2, 3, 1, 0]\n"
     ]
    }
   ],
   "source": [
    "from collections import defaultdict\n",
    "\n",
    "class Graph:\n",
    "    def __init__(self, vertices):\n",
    "        self.graph = defaultdict(list)\n",
    "        self.V = vertices\n",
    "\n",
    "    def add_edge(self, u, v):\n",
    "        self.graph[u].append(v)\n",
    "\n",
    "    def topological_sort_util(self, v, visited, stack):\n",
    "        visited[v] = True\n",
    "        for i in self.graph[v]:\n",
    "            if not visited[i]:\n",
    "                self.topological_sort_util(i, visited, stack)\n",
    "        stack.append(v)\n",
    "\n",
    "    def topological_sort(self):\n",
    "        visited = [False] * self.V\n",
    "        stack = []\n",
    "\n",
    "        for i in range(self.V):\n",
    "            if not visited[i]:\n",
    "                self.topological_sort_util(i, visited, stack)\n",
    "\n",
    "        return stack[::-1]\n",
    "\n",
    "# Example Usage\n",
    "g = Graph(6)\n",
    "g.add_edge(5, 2)\n",
    "g.add_edge(5, 0)\n",
    "g.add_edge(4, 0)\n",
    "g.add_edge(4, 1)\n",
    "g.add_edge(2, 3)\n",
    "g.add_edge(3, 1)\n",
    "\n",
    "print(\"Topological Sorting:\", g.topological_sort())\n"
   ]
  },
  {
   "cell_type": "code",
   "execution_count": 2,
   "id": "c69e68ec",
   "metadata": {},
   "outputs": [
    {
     "name": "stdout",
     "output_type": "stream",
     "text": [
      "Original Array: [170, 45, 75, 90, 802, 24, 2, 66]\n",
      "Sorted Array using Radix Sort: [2, 24, 45, 66, 75, 90, 170, 802]\n"
     ]
    }
   ],
   "source": [
    "def counting_sort(arr, exp):\n",
    "    n = len(arr)\n",
    "    output = [0] * n\n",
    "    count = [0] * 10\n",
    "\n",
    "    for i in range(n):\n",
    "        index = arr[i] // exp\n",
    "        count[index % 10] += 1\n",
    "\n",
    "    for i in range(1, 10):\n",
    "        count[i] += count[i - 1]\n",
    "\n",
    "    i = n - 1\n",
    "    while i >= 0:\n",
    "        index = arr[i] // exp\n",
    "        output[count[index % 10] - 1] = arr[i]\n",
    "        count[index % 10] -= 1\n",
    "        i -= 1\n",
    "\n",
    "    i = 0\n",
    "    for i in range(n):\n",
    "        arr[i] = output[i]\n",
    "\n",
    "def radix_sort(arr):\n",
    "    max_num = max(arr)\n",
    "    exp = 1\n",
    "\n",
    "    while max_num // exp > 0:\n",
    "        counting_sort(arr, exp)\n",
    "        exp *= 10\n",
    "\n",
    "# Example Usage\n",
    "arr = [170, 45, 75, 90, 802, 24, 2, 66]\n",
    "print(\"Original Array:\", arr)\n",
    "\n",
    "radix_sort(arr)\n",
    "\n",
    "print(\"Sorted Array using Radix Sort:\", arr)\n"
   ]
  },
  {
   "cell_type": "code",
   "execution_count": 3,
   "id": "344b419f",
   "metadata": {},
   "outputs": [
    {
     "name": "stdout",
     "output_type": "stream",
     "text": [
      "Original Array: [12, 11, 13, 5, 6]\n",
      "Sorted Array using Binary Insertion Sort: [5, 6, 11, 12, 13]\n"
     ]
    }
   ],
   "source": [
    "def binary_insertion_sort(arr):\n",
    "    for i in range(1, len(arr)):\n",
    "        key = arr[i]\n",
    "        left, right = 0, i - 1\n",
    "\n",
    "        while left <= right:\n",
    "            mid = (left + right) // 2\n",
    "            if key < arr[mid]:\n",
    "                right = mid - 1\n",
    "            else:\n",
    "                left = mid + 1\n",
    "\n",
    "        arr[left + 1:i + 1] = arr[left:i]\n",
    "        arr[left] = key\n",
    "\n",
    "# Example Usage\n",
    "arr = [12, 11, 13, 5, 6]\n",
    "print(\"Original Array:\", arr)\n",
    "\n",
    "binary_insertion_sort(arr)\n",
    "\n",
    "print(\"Sorted Array using Binary Insertion Sort:\", arr)\n"
   ]
  },
  {
   "cell_type": "code",
   "execution_count": 4,
   "id": "4dd711bd",
   "metadata": {},
   "outputs": [
    {
     "name": "stdout",
     "output_type": "stream",
     "text": [
      "Original Array: [3, 7, 4, 8, 6, 2, 1, 5]\n",
      "Sorted Array using Bitonic Sort: [1, 2, 3, 4, 5, 6, 7, 8]\n"
     ]
    }
   ],
   "source": [
    "def bitonic_merge(arr, low, cnt, direction):\n",
    "    if cnt > 1:\n",
    "        k = cnt // 2\n",
    "        for i in range(low, low + k):\n",
    "            if (direction == \"up\" and arr[i] > arr[i + k]) or (direction == \"down\" and arr[i] < arr[i + k]):\n",
    "                arr[i], arr[i + k] = arr[i + k], arr[i]\n",
    "\n",
    "        bitonic_merge(arr, low, k, direction)\n",
    "        bitonic_merge(arr, low + k, k, direction)\n",
    "\n",
    "def bitonic_sort(arr, low, cnt, direction):\n",
    "    if cnt > 1:\n",
    "        k = cnt // 2\n",
    "        bitonic_sort(arr, low, k, \"up\")\n",
    "        bitonic_sort(arr, low + k, k, \"down\")\n",
    "        bitonic_merge(arr, low, cnt, direction)\n",
    "\n",
    "def bitonic_sort_main(arr):\n",
    "    n = len(arr)\n",
    "    bitonic_sort(arr, 0, n, \"up\")\n",
    "\n",
    "# Example Usage\n",
    "arr = [3, 7, 4, 8, 6, 2, 1, 5]\n",
    "print(\"Original Array:\", arr)\n",
    "\n",
    "bitonic_sort_main(arr)\n",
    "\n",
    "print(\"Sorted Array using Bitonic Sort:\", arr)\n"
   ]
  },
  {
   "cell_type": "code",
   "execution_count": 5,
   "id": "d050313b",
   "metadata": {},
   "outputs": [
    {
     "name": "stdout",
     "output_type": "stream",
     "text": [
      "Original Array: [8, 4, 1, 56, 3, -44, 23, -6, 2]\n",
      "Sorted Array using Comb Sort: [-44, -6, 1, 2, 3, 4, 8, 23, 56]\n"
     ]
    }
   ],
   "source": [
    "def get_next_gap(gap):\n",
    "    gap = (gap * 10) / 13\n",
    "    if gap < 1:\n",
    "        return 1\n",
    "    return int(gap)\n",
    "\n",
    "def comb_sort(arr):\n",
    "    n = len(arr)\n",
    "    gap = n\n",
    "    swapped = True\n",
    "\n",
    "    while gap != 1 or swapped:\n",
    "        gap = get_next_gap(gap)\n",
    "        swapped = False\n",
    "\n",
    "        for i in range(0, n - gap):\n",
    "            if arr[i] > arr[i + gap]:\n",
    "                arr[i], arr[i + gap] = arr[i + gap], arr[i]\n",
    "                swapped = True\n",
    "\n",
    "# Example Usage\n",
    "arr = [8, 4, 1, 56, 3, -44, 23, -6, 2]\n",
    "print(\"Original Array:\", arr)\n",
    "\n",
    "comb_sort(arr)\n",
    "\n",
    "print(\"Sorted Array using Comb Sort:\", arr)\n"
   ]
  },
  {
   "cell_type": "code",
   "execution_count": 6,
   "id": "ac1e34ce",
   "metadata": {},
   "outputs": [
    {
     "name": "stdout",
     "output_type": "stream",
     "text": [
      "Original Array: [8, 3, 2, 7, 4, 6, 8]\n",
      "Sorted Array using Pigeonhole Sort: [2, 3, 4, 6, 7, 8, 8]\n"
     ]
    }
   ],
   "source": [
    "def pigeonhole_sort(arr):\n",
    "    min_num = min(arr)\n",
    "    max_num = max(arr)\n",
    "    range_of_elements = max_num - min_num + 1\n",
    "    pigeonhole = [0] * range_of_elements\n",
    "\n",
    "    for i in arr:\n",
    "        pigeonhole[i - min_num] += 1\n",
    "\n",
    "    index = 0\n",
    "    for count in range(range_of_elements):\n",
    "        while pigeonhole[count] > 0:\n",
    "            arr[index] = count + min_num\n",
    "            index += 1\n",
    "            pigeonhole[count] -= 1\n",
    "\n",
    "# Example Usage\n",
    "arr = [8, 3, 2, 7, 4, 6, 8]\n",
    "print(\"Original Array:\", arr)\n",
    "\n",
    "pigeonhole_sort(arr)\n",
    "\n",
    "print(\"Sorted Array using Pigeonhole Sort:\", arr)\n"
   ]
  },
  {
   "cell_type": "code",
   "execution_count": 8,
   "id": "4accec9c",
   "metadata": {},
   "outputs": [
    {
     "name": "stdout",
     "output_type": "stream",
     "text": [
      "Original Array: [5, 1, 4, 2, 8, 0, 2]\n",
      "Sorted Array using Cocktail Sort: [0, 1, 2, 2, 4, 5, 8]\n"
     ]
    }
   ],
   "source": [
    "def cocktail_sort(arr):\n",
    "    n = len(arr)\n",
    "    swapped = True\n",
    "    start = 0\n",
    "    end = n - 1\n",
    "\n",
    "    while (swapped == True):\n",
    "        swapped = False\n",
    "        for i in range(start, end):\n",
    "            if (arr[i] > arr[i + 1]):\n",
    "                arr[i], arr[i + 1] = arr[i + 1], arr[i]\n",
    "                swapped = True\n",
    "\n",
    "        if (swapped == False):\n",
    "            break\n",
    "\n",
    "        swapped = False\n",
    "        end = end - 1\n",
    "        for i in range(end - 1, start - 1, -1):\n",
    "            if (arr[i] > arr[i + 1]):\n",
    "                arr[i], arr[i + 1] = arr[i + 1], arr[i]\n",
    "                swapped = True\n",
    "\n",
    "        start = start + 1\n",
    "\n",
    "# Example Usage\n",
    "arr = [5, 1, 4, 2, 8, 0, 2]\n",
    "print(\"Original Array:\", arr)\n",
    "\n",
    "cocktail_sort(arr)\n",
    "\n",
    "print(\"Sorted Array using Cocktail Sort:\", arr)\n",
    "\n"
   ]
  },
  {
   "cell_type": "code",
   "execution_count": 9,
   "id": "ffa51668",
   "metadata": {},
   "outputs": [
    {
     "name": "stdout",
     "output_type": "stream",
     "text": [
      "Original Array: [34, 2, 10, -9]\n",
      "Sorted Array using Gnome Sort: [-9, 2, 10, 34]\n"
     ]
    }
   ],
   "source": [
    "def gnome_sort(arr):\n",
    "    n = len(arr)\n",
    "    index = 0\n",
    "\n",
    "    while index < n:\n",
    "        if index == 0:\n",
    "            index = index + 1\n",
    "        if arr[index] >= arr[index - 1]:\n",
    "            index = index + 1\n",
    "        else:\n",
    "            arr[index], arr[index - 1] = arr[index - 1], arr[index]\n",
    "            index = index - 1\n",
    "\n",
    "# Example Usage\n",
    "arr = [34, 2, 10, -9]\n",
    "print(\"Original Array:\", arr)\n",
    "\n",
    "gnome_sort(arr)\n",
    "\n",
    "print(\"Sorted Array using Gnome Sort:\", arr)\n"
   ]
  },
  {
   "cell_type": "code",
   "execution_count": 10,
   "id": "dc309f3c",
   "metadata": {},
   "outputs": [
    {
     "name": "stdout",
     "output_type": "stream",
     "text": [
      "Original Array: [34, 2, 10, -9]\n",
      "Sorted Array using Odd-Even Sort: [-9, 2, 10, 34]\n"
     ]
    }
   ],
   "source": [
    "def odd_even_sort(arr):\n",
    "    n = len(arr)\n",
    "    is_sorted = 0\n",
    "\n",
    "    while is_sorted == 0:\n",
    "        is_sorted = 1\n",
    "        temp = 0\n",
    "        for i in range(1, n - 1, 2):\n",
    "            if arr[i] > arr[i + 1]:\n",
    "                arr[i], arr[i + 1] = arr[i + 1], arr[i]\n",
    "                is_sorted = 0\n",
    "        for i in range(0, n - 1, 2):\n",
    "            if arr[i] > arr[i + 1]:\n",
    "                arr[i], arr[i + 1] = arr[i + 1], arr[i]\n",
    "                is_sorted = 0\n",
    "\n",
    "# Example Usage\n",
    "arr = [34, 2, 10, -9]\n",
    "print(\"Original Array:\", arr)\n",
    "\n",
    "odd_even_sort(arr)\n",
    "\n",
    "print(\"Sorted Array using Odd-Even Sort:\", arr)\n"
   ]
  },
  {
   "cell_type": "code",
   "execution_count": 11,
   "id": "67c65a68",
   "metadata": {},
   "outputs": [
    {
     "name": "stdout",
     "output_type": "stream",
     "text": [
      "Original Array: [34, 2, 10, -9]\n",
      "Sorted Array using BogoSort: [-9, 2, 10, 34]\n"
     ]
    }
   ],
   "source": [
    "import random\n",
    "\n",
    "def is_sorted(arr):\n",
    "    n = len(arr)\n",
    "    for i in range(0, n-1):\n",
    "        if (arr[i] > arr[i+1]):\n",
    "            return False\n",
    "    return True\n",
    "\n",
    "def bogo_sort(arr):\n",
    "    while not is_sorted(arr):\n",
    "        random.shuffle(arr)\n",
    "\n",
    "# Example Usage\n",
    "arr = [34, 2, 10, -9]\n",
    "print(\"Original Array:\", arr)\n",
    "\n",
    "bogo_sort(arr)\n",
    "\n",
    "print(\"Sorted Array using BogoSort:\", arr)\n"
   ]
  },
  {
   "cell_type": "code",
   "execution_count": null,
   "id": "209fdb62",
   "metadata": {},
   "outputs": [],
   "source": []
  }
 ],
 "metadata": {
  "kernelspec": {
   "display_name": "Python 3 (ipykernel)",
   "language": "python",
   "name": "python3"
  },
  "language_info": {
   "codemirror_mode": {
    "name": "ipython",
    "version": 3
   },
   "file_extension": ".py",
   "mimetype": "text/x-python",
   "name": "python",
   "nbconvert_exporter": "python",
   "pygments_lexer": "ipython3",
   "version": "3.11.3"
  }
 },
 "nbformat": 4,
 "nbformat_minor": 5
}
