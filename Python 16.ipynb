{
 "cells": [
  {
   "cell_type": "code",
   "execution_count": 1,
   "id": "54e7e82c",
   "metadata": {},
   "outputs": [
    {
     "name": "stdout",
     "output_type": "stream",
     "text": [
      "Original Array: [5, 2, 1, 4, 3]\n",
      "Sorted Array using Cycle Sort: [1, 2, 3, 4, 5]\n"
     ]
    }
   ],
   "source": [
    "def cycle_sort(arr):\n",
    "    writes = 0\n",
    "    for cycleStart in range(0, len(arr) - 1):\n",
    "        item = arr[cycleStart]\n",
    "        pos = cycleStart\n",
    "        for i in range(cycleStart + 1, len(arr)):\n",
    "            if arr[i] < item:\n",
    "                pos += 1\n",
    "        if pos == cycleStart:\n",
    "            continue\n",
    "        while item == arr[pos]:\n",
    "            pos += 1\n",
    "        arr[pos], item = item, arr[pos]\n",
    "        writes += 1\n",
    "        while pos != cycleStart:\n",
    "            pos = cycleStart\n",
    "            for i in range(cycleStart + 1, len(arr)):\n",
    "                if arr[i] < item:\n",
    "                    pos += 1\n",
    "            while item == arr[pos]:\n",
    "                pos += 1\n",
    "            arr[pos], item = item, arr[pos]\n",
    "            writes += 1\n",
    "    return writes\n",
    "\n",
    "# Example Usage\n",
    "arr = [5, 2, 1, 4, 3]\n",
    "print(\"Original Array:\", arr)\n",
    "\n",
    "cycle_sort(arr)\n",
    "\n",
    "print(\"Sorted Array using Cycle Sort:\", arr)\n"
   ]
  },
  {
   "cell_type": "code",
   "execution_count": 3,
   "id": "7b342704",
   "metadata": {},
   "outputs": [
    {
     "name": "stdout",
     "output_type": "stream",
     "text": [
      "Original Array: [5, 2, 1, 4, 3]\n",
      "Sorted Array using Stooge Sort: [1, 2, 3, 4, 5]\n"
     ]
    }
   ],
   "source": [
    "def stooge_sort(arr, l, h):\n",
    "    if l >= h:\n",
    "        return\n",
    "    if arr[l] > arr[h]:\n",
    "        arr[l], arr[h] = arr[h], arr[l]\n",
    "    if h - l + 1 > 2:\n",
    "        t = (h - l + 1) // 3\n",
    "        stooge_sort(arr, l, h - t)\n",
    "        stooge_sort(arr, l + t, h)\n",
    "        stooge_sort(arr, l, h - t)\n",
    "\n",
    "# Example Usage\n",
    "arr = [5, 2, 1, 4, 3]\n",
    "print(\"Original Array:\", arr)\n",
    "\n",
    "stooge_sort(arr, 0, len(arr) - 1)\n",
    "\n",
    "print(\"Sorted Array using Stooge Sort:\", arr)\n"
   ]
  },
  {
   "cell_type": "code",
   "execution_count": 11,
   "id": "f303ca5e",
   "metadata": {},
   "outputs": [
    {
     "name": "stdout",
     "output_type": "stream",
     "text": [
      "*******\n",
      "*     *\n",
      "*     *\n",
      "*     *\n",
      "*     *\n",
      "*     *\n",
      "*******\n"
     ]
    }
   ],
   "source": [
    "def print_G(height):\n",
    "    width = height - 1\n",
    "    for row in range(height):\n",
    "        for col in range(width + 1):\n",
    "            if (col == 0 or col == width) or ((row == 0 or row == height - 1) and (col > 0 and col < width)):\n",
    "                print(\"*\", end=\"\")\n",
    "            elif (row < height // 2) and (col == width):\n",
    "                print(\"*\", end=\"\")\n",
    "            else:\n",
    "                print(end=\" \")\n",
    "        print()\n",
    "\n",
    "# Example Usage\n",
    "print_G(7)\n",
    "\n"
   ]
  },
  {
   "cell_type": "code",
   "execution_count": 5,
   "id": "21d6184c",
   "metadata": {},
   "outputs": [
    {
     "name": "stdout",
     "output_type": "stream",
     "text": [
      "* * * * * \n",
      "* * * * \n",
      "* * * \n",
      "* * \n",
      "* \n"
     ]
    }
   ],
   "source": [
    "def inverted_star_pattern(rows):\n",
    "    for i in range(rows, 0, -1):\n",
    "        for j in range(0, i):\n",
    "            print(\"*\", end=' ')\n",
    "        print()\n",
    "\n",
    "# Example Usage\n",
    "inverted_star_pattern(5)\n"
   ]
  },
  {
   "cell_type": "code",
   "execution_count": 6,
   "id": "de8b2c9b",
   "metadata": {},
   "outputs": [
    {
     "name": "stdout",
     "output_type": "stream",
     "text": [
      "1 \n",
      "1 2 1 \n",
      "1 2 3 2 1 \n",
      "1 2 3 4 3 2 1 \n"
     ]
    }
   ],
   "source": [
    "def double_sided_staircase(rows):\n",
    "    for i in range(1, rows + 1):\n",
    "        for j in range(1, i + 1):\n",
    "            print(j, end=' ')\n",
    "        for k in range(i - 1, 0, -1):\n",
    "            print(k, end=' ')\n",
    "        print()\n",
    "\n",
    "# Example Usage\n",
    "double_sided_staircase(4)\n"
   ]
  },
  {
   "cell_type": "code",
   "execution_count": 7,
   "id": "e9550678",
   "metadata": {},
   "outputs": [
    {
     "name": "stdout",
     "output_type": "stream",
     "text": [
      "  A    BBBB    CCCC  \n",
      " A A   B   B  C      \n",
      "AAAAA  BBBB   C      \n",
      "A   A  B   B  C      \n",
      "A   A  BBBB    CCCC  \n"
     ]
    }
   ],
   "source": [
    "def print_with_font():\n",
    "    font = {\n",
    "        'A': [\"  A  \", \" A A \", \"AAAAA\", \"A   A\", \"A   A\"],\n",
    "        'B': [\"BBBB \", \"B   B\", \"BBBB \", \"B   B\", \"BBBB \"],\n",
    "        'C': [\" CCCC\", \"C    \", \"C    \", \"C    \", \" CCCC\"],\n",
    "        # Add more characters as needed\n",
    "    }\n",
    "\n",
    "    text = \"ABC\"\n",
    "    for i in range(5):\n",
    "        for char in text:\n",
    "            print(font[char][i], end=\"  \")\n",
    "        print()\n",
    "\n",
    "# Example Usage\n",
    "print_with_font()\n"
   ]
  },
  {
   "cell_type": "code",
   "execution_count": 8,
   "id": "1c335095",
   "metadata": {},
   "outputs": [
    {
     "name": "stdout",
     "output_type": "stream",
     "text": [
      "Current Date and Time: 2023-12-15 16:34:49.355160\n"
     ]
    }
   ],
   "source": [
    "from datetime import datetime\n",
    "\n",
    "current_datetime = datetime.now()\n",
    "print(\"Current Date and Time:\", current_datetime)\n"
   ]
  },
  {
   "cell_type": "code",
   "execution_count": 9,
   "id": "a4a28f0a",
   "metadata": {},
   "outputs": [
    {
     "name": "stdout",
     "output_type": "stream",
     "text": [
      "Yesterday's Date: 2023-12-14 16:34:54.799246\n",
      "Today's Date: 2023-12-15 16:34:54.799246\n",
      "Tomorrow's Date: 2023-12-16 16:34:54.799246\n"
     ]
    }
   ],
   "source": [
    "from datetime import datetime, timedelta\n",
    "\n",
    "today = datetime.now()\n",
    "yesterday = today - timedelta(days=1)\n",
    "tomorrow = today + timedelta(days=1)\n",
    "\n",
    "print(\"Yesterday's Date:\", yesterday)\n",
    "print(\"Today's Date:\", today)\n",
    "print(\"Tomorrow's Date:\", tomorrow)\n"
   ]
  },
  {
   "cell_type": "code",
   "execution_count": 10,
   "id": "d5ebe703",
   "metadata": {},
   "outputs": [
    {
     "name": "stdout",
     "output_type": "stream",
     "text": [
      "Converted Time: 18:30\n"
     ]
    }
   ],
   "source": [
    "def convert_12_to_24(hour, minute, period):\n",
    "    if period == 'AM':\n",
    "        if hour == 12:\n",
    "            hour = 0\n",
    "    else:\n",
    "        if hour != 12:\n",
    "            hour += 12\n",
    "    return f\"{hour:02d}:{minute:02d}\"\n",
    "\n",
    "# Example Usage\n",
    "hour = 6\n",
    "minute = 30\n",
    "period = 'PM'\n",
    "\n",
    "result = convert_12_to_24(hour, minute, period)\n",
    "print(f\"Converted Time: {result}\")\n"
   ]
  },
  {
   "cell_type": "code",
   "execution_count": null,
   "id": "2ac87a36",
   "metadata": {},
   "outputs": [],
   "source": []
  }
 ],
 "metadata": {
  "kernelspec": {
   "display_name": "Python 3 (ipykernel)",
   "language": "python",
   "name": "python3"
  },
  "language_info": {
   "codemirror_mode": {
    "name": "ipython",
    "version": 3
   },
   "file_extension": ".py",
   "mimetype": "text/x-python",
   "name": "python",
   "nbconvert_exporter": "python",
   "pygments_lexer": "ipython3",
   "version": "3.11.3"
  }
 },
 "nbformat": 4,
 "nbformat_minor": 5
}
