{
 "cells": [
  {
   "cell_type": "code",
   "execution_count": 1,
   "id": "3a613d52",
   "metadata": {},
   "outputs": [
    {
     "name": "stdout",
     "output_type": "stream",
     "text": [
      "Original Array: [12, 11, 13, 5, 6]\n",
      "Sorted Array using Recursive Insertion Sort: [5, 6, 11, 6, 12]\n"
     ]
    }
   ],
   "source": [
    "def recursive_insertion_sort(arr):\n",
    "    if len(arr) > 1:\n",
    "        key = arr[0]\n",
    "        rest_of_list = arr[1:]\n",
    "\n",
    "        recursive_insertion_sort(rest_of_list)\n",
    "\n",
    "        i = j = 0\n",
    "        while i < len(rest_of_list) and key > rest_of_list[i]:\n",
    "            arr[j] = rest_of_list[i]\n",
    "            i += 1\n",
    "            j += 1\n",
    "\n",
    "        arr[j] = key\n",
    "\n",
    "# Example Usage\n",
    "arr = [12, 11, 13, 5, 6]\n",
    "print(\"Original Array:\", arr)\n",
    "\n",
    "recursive_insertion_sort(arr)\n",
    "\n",
    "print(\"Sorted Array using Recursive Insertion Sort:\", arr)\n"
   ]
  },
  {
   "cell_type": "code",
   "execution_count": 2,
   "id": "8adf5de1",
   "metadata": {},
   "outputs": [
    {
     "name": "stdout",
     "output_type": "stream",
     "text": [
      "Original Array: [12, 11, 13, 5, 6, 7]\n",
      "Sorted Array using QuickSort: [5, 6, 7, 11, 12, 13]\n"
     ]
    }
   ],
   "source": [
    "def quicksort(arr):\n",
    "    if len(arr) <= 1:\n",
    "        return arr\n",
    "    else:\n",
    "        pivot = arr[0]\n",
    "        less = [x for x in arr[1:] if x <= pivot]\n",
    "        greater = [x for x in arr[1:] if x > pivot]\n",
    "        return quicksort(less) + [pivot] + quicksort(greater)\n",
    "\n",
    "# Example Usage\n",
    "arr = [12, 11, 13, 5, 6, 7]\n",
    "print(\"Original Array:\", arr)\n",
    "\n",
    "sorted_arr = quicksort(arr)\n",
    "\n",
    "print(\"Sorted Array using QuickSort:\", sorted_arr)\n"
   ]
  },
  {
   "cell_type": "code",
   "execution_count": 3,
   "id": "f17c9874",
   "metadata": {},
   "outputs": [
    {
     "name": "stdout",
     "output_type": "stream",
     "text": [
      "Original Array: [12, 11, 13, 5, 6, 7]\n",
      "Sorted Array using Iterative QuickSort: [5, 6, 7, 11, 12, 13]\n"
     ]
    }
   ],
   "source": [
    "def iterative_quicksort(arr):\n",
    "    size = len(arr)\n",
    "    stack = [0] * size\n",
    "    top = -1\n",
    "    top += 1\n",
    "    stack[top] = 0\n",
    "    top += 1\n",
    "    stack[top] = size - 1\n",
    "    while top >= 0:\n",
    "        h = stack[top]\n",
    "        top -= 1\n",
    "        l = stack[top]\n",
    "        top -= 1\n",
    "        p = partition(arr, l, h)\n",
    "        if p - 1 > l:\n",
    "            top += 1\n",
    "            stack[top] = l\n",
    "            top += 1\n",
    "            stack[top] = p - 1\n",
    "        if p + 1 < h:\n",
    "            top += 1\n",
    "            stack[top] = p + 1\n",
    "            top += 1\n",
    "            stack[top] = h\n",
    "\n",
    "def partition(arr, low, high):\n",
    "    i = low - 1\n",
    "    pivot = arr[high]\n",
    "    for j in range(low, high):\n",
    "        if arr[j] <= pivot:\n",
    "            i += 1\n",
    "            arr[i], arr[j] = arr[j], arr[i]\n",
    "    arr[i + 1], arr[high] = arr[high], arr[i + 1]\n",
    "    return i + 1\n",
    "\n",
    "# Example Usage\n",
    "arr = [12, 11, 13, 5, 6, 7]\n",
    "print(\"Original Array:\", arr)\n",
    "\n",
    "iterative_quicksort(arr)\n",
    "\n",
    "print(\"Sorted Array using Iterative QuickSort:\", arr)\n"
   ]
  },
  {
   "cell_type": "code",
   "execution_count": 4,
   "id": "4ebf2167",
   "metadata": {},
   "outputs": [
    {
     "name": "stdout",
     "output_type": "stream",
     "text": [
      "Original Array: [12, 11, 13, 5, 6]\n",
      "Sorted Array using Selection Sort: [5, 6, 11, 12, 13]\n"
     ]
    }
   ],
   "source": [
    "def selection_sort(arr):\n",
    "    for i in range(len(arr)):\n",
    "        min_index = i\n",
    "        for j in range(i + 1, len(arr)):\n",
    "            if arr[j] < arr[min_index]:\n",
    "                min_index = j\n",
    "        arr[i], arr[min_index] = arr[min_index], arr[i]\n",
    "\n",
    "# Example Usage\n",
    "arr = [12, 11, 13, 5, 6]\n",
    "print(\"Original Array:\", arr)\n",
    "\n",
    "selection_sort(arr)\n",
    "\n",
    "print(\"Sorted Array using Selection Sort:\", arr)\n"
   ]
  },
  {
   "cell_type": "code",
   "execution_count": 5,
   "id": "56ab16fd",
   "metadata": {},
   "outputs": [
    {
     "name": "stdout",
     "output_type": "stream",
     "text": [
      "Original Array: [64, 34, 25, 12, 22, 11, 90]\n",
      "Sorted Array using Bubble Sort: [11, 12, 22, 25, 34, 64, 90]\n"
     ]
    }
   ],
   "source": [
    "def bubble_sort(arr):\n",
    "    n = len(arr)\n",
    "    for i in range(n - 1):\n",
    "        for j in range(0, n - i - 1):\n",
    "            if arr[j] > arr[j + 1]:\n",
    "                arr[j], arr[j + 1] = arr[j + 1], arr[j]\n",
    "\n",
    "# Example Usage\n",
    "arr = [64, 34, 25, 12, 22, 11, 90]\n",
    "print(\"Original Array:\", arr)\n",
    "\n",
    "bubble_sort(arr)\n",
    "\n",
    "print(\"Sorted Array using Bubble Sort:\", arr)\n"
   ]
  },
  {
   "cell_type": "code",
   "execution_count": 8,
   "id": "696e819d",
   "metadata": {},
   "outputs": [
    {
     "name": "stdout",
     "output_type": "stream",
     "text": [
      "Original Array: [12, 11, 13, 5, 6, 7]\n",
      "Sorted Array using Merge Sort: [5, 6, 7, 11, 12, 13]\n"
     ]
    }
   ],
   "source": [
    "def merge_sort(arr):\n",
    "    if len(arr) > 1:\n",
    "        mid = len(arr) // 2\n",
    "        left_half = arr[:mid]\n",
    "        right_half = arr[mid:]\n",
    "\n",
    "        merge_sort(left_half)\n",
    "        merge_sort(right_half)\n",
    "\n",
    "        i = j = k = 0\n",
    "\n",
    "        while i < len(left_half) and j < len(right_half):\n",
    "            if left_half[i] < right_half[j]:\n",
    "                arr[k] = left_half[i]\n",
    "                i += 1\n",
    "            else:\n",
    "                arr[k] = right_half[j]\n",
    "                j += 1\n",
    "            k += 1\n",
    "\n",
    "        while i < len(left_half):\n",
    "            arr[k] = left_half[i]\n",
    "            i += 1\n",
    "            k += 1\n",
    "\n",
    "        while j < len(right_half):\n",
    "            arr[k] = right_half[j]\n",
    "            j += 1\n",
    "            k += 1\n",
    "\n",
    "# Example Usage\n",
    "arr = [12, 11, 13, 5, 6, 7]\n",
    "print(\"Original Array:\", arr)\n",
    "\n",
    "merge_sort(arr)\n",
    "\n",
    "print(\"Sorted Array using Merge Sort:\", arr)\n",
    "\n"
   ]
  },
  {
   "cell_type": "code",
   "execution_count": 9,
   "id": "27d07359",
   "metadata": {},
   "outputs": [
    {
     "name": "stdout",
     "output_type": "stream",
     "text": [
      "Original Array: [12, 11, 13, 5, 6, 7]\n",
      "Sorted Array using Iterative Merge Sort: [5, 6, 7, 11, 12, 13]\n"
     ]
    }
   ],
   "source": [
    "def iterative_merge_sort(arr):\n",
    "    current_size = 1\n",
    "    while current_size < len(arr) - 1:\n",
    "        left = 0\n",
    "        while left < len(arr) - 1:\n",
    "            mid = min((left + current_size - 1), (len(arr) - 1))\n",
    "            right = ((2 * current_size + left - 1, len(arr) - 1)[2 * current_size + left - 1 > len(arr) - 1])\n",
    "            merge(arr, left, mid, right)\n",
    "            left = left + current_size * 2\n",
    "        current_size = 2 * current_size\n",
    "\n",
    "def merge(arr, left, mid, right):\n",
    "    n1 = mid - left + 1\n",
    "    n2 = right - mid\n",
    "    left_arr = [0] * n1\n",
    "    right_arr = [0] * n2\n",
    "\n",
    "    for i in range(0, n1):\n",
    "        left_arr[i] = arr[left + i]\n",
    "\n",
    "    for j in range(0, n2):\n",
    "        right_arr[j] = arr[mid + 1 + j]\n",
    "\n",
    "    i = j = 0\n",
    "    k = left\n",
    "    while i < n1 and j < n2:\n",
    "        if left_arr[i] <= right_arr[j]:\n",
    "            arr[k] = left_arr[i]\n",
    "            i += 1\n",
    "        else:\n",
    "            arr[k] = right_arr[j]\n",
    "            j += 1\n",
    "        k += 1\n",
    "\n",
    "    while i < n1:\n",
    "        arr[k] = left_arr[i]\n",
    "        i += 1\n",
    "        k += 1\n",
    "\n",
    "    while j < n2:\n",
    "        arr[k] = right_arr[j]\n",
    "        j += 1\n",
    "        k += 1\n",
    "\n",
    "# Example Usage\n",
    "arr = [12, 11, 13, 5, 6, 7]\n",
    "print(\"Original Array:\", arr)\n",
    "\n",
    "iterative_merge_sort(arr)\n",
    "\n",
    "print(\"Sorted Array using Iterative Merge Sort:\", arr)\n"
   ]
  },
  {
   "cell_type": "code",
   "execution_count": 10,
   "id": "04c5d662",
   "metadata": {},
   "outputs": [
    {
     "name": "stdout",
     "output_type": "stream",
     "text": [
      "Original Array: [12, 11, 13, 5, 6, 7]\n",
      "Sorted Array using Heap Sort: [5, 6, 7, 11, 12, 13]\n"
     ]
    }
   ],
   "source": [
    "def heap_sort(arr):\n",
    "    n = len(arr)\n",
    "\n",
    "    for i in range(n // 2 - 1, -1, -1):\n",
    "        heapify(arr, n, i)\n",
    "\n",
    "    for i in range(n - 1, 0, -1):\n",
    "        arr[i], arr[0] = arr[0], arr[i]\n",
    "        heapify(arr, i, 0)\n",
    "\n",
    "def heapify(arr, n, i):\n",
    "    largest = i\n",
    "    left = 2 * i + 1\n",
    "    right = 2 * i + 2\n",
    "\n",
    "    if left < n and arr[left] > arr[largest]:\n",
    "        largest = left\n",
    "\n",
    "    if right < n and arr[right] > arr[largest]:\n",
    "        largest = right\n",
    "\n",
    "    if largest != i:\n",
    "        arr[i], arr[largest] = arr[largest], arr[i]\n",
    "        heapify(arr, n, largest)\n",
    "\n",
    "# Example Usage\n",
    "arr = [12, 11, 13, 5, 6, 7]\n",
    "print(\"Original Array:\", arr)\n",
    "\n",
    "heap_sort(arr)\n",
    "\n",
    "print(\"Sorted Array using Heap Sort:\", arr)\n"
   ]
  },
  {
   "cell_type": "code",
   "execution_count": 11,
   "id": "3b7f464f",
   "metadata": {},
   "outputs": [
    {
     "name": "stdout",
     "output_type": "stream",
     "text": [
      "Original Array: [4, 2, 2, 8, 3, 3, 1]\n",
      "Sorted Array using Counting Sort: [1, 2, 2, 3, 3, 4, 8]\n"
     ]
    }
   ],
   "source": [
    "def counting_sort(arr):\n",
    "    max_element = max(arr)\n",
    "    min_element = min(arr)\n",
    "    range_of_elements = max_element - min_element + 1\n",
    "\n",
    "    count_array = [0] * range_of_elements\n",
    "    output_array = [0] * len(arr)\n",
    "\n",
    "    for i in range(len(arr)):\n",
    "        count_array[arr[i] - min_element] += 1\n",
    "\n",
    "    for i in range(1, len(count_array)):\n",
    "        count_array[i] += count_array[i - 1]\n",
    "\n",
    "    i = len(arr) - 1\n",
    "    while i >= 0:\n",
    "        output_array[count_array[arr[i] - min_element] - 1] = arr[i]\n",
    "        count_array[arr[i] - min_element] -= 1\n",
    "        i -= 1\n",
    "\n",
    "    for i in range(len(arr)):\n",
    "        arr[i] = output_array[i]\n",
    "\n",
    "# Example Usage\n",
    "arr = [4, 2, 2, 8, 3, 3, 1]\n",
    "print(\"Original Array:\", arr)\n",
    "\n",
    "counting_sort(arr)\n",
    "\n",
    "print(\"Sorted Array using Counting Sort:\", arr)\n"
   ]
  },
  {
   "cell_type": "code",
   "execution_count": 12,
   "id": "1716d32f",
   "metadata": {},
   "outputs": [
    {
     "name": "stdout",
     "output_type": "stream",
     "text": [
      "Original Array: [12, 34, 54, 2, 3]\n",
      "Sorted Array using ShellSort: [2, 3, 12, 34, 54]\n"
     ]
    }
   ],
   "source": [
    "def shell_sort(arr):\n",
    "    n = len(arr)\n",
    "    gap = n // 2\n",
    "\n",
    "    while gap > 0:\n",
    "        for i in range(gap, n):\n",
    "            temp = arr[i]\n",
    "            j = i\n",
    "            while j >= gap and arr[j - gap] > temp:\n",
    "                arr[j] = arr[j - gap]\n",
    "                j -= gap\n",
    "            arr[j] = temp\n",
    "        gap //= 2\n",
    "\n",
    "# Example Usage\n",
    "arr = [12, 34, 54, 2, 3]\n",
    "print(\"Original Array:\", arr)\n",
    "\n",
    "shell_sort(arr)\n",
    "\n",
    "print(\"Sorted Array using ShellSort:\", arr)\n"
   ]
  },
  {
   "cell_type": "code",
   "execution_count": null,
   "id": "98d5aa78",
   "metadata": {},
   "outputs": [],
   "source": []
  }
 ],
 "metadata": {
  "kernelspec": {
   "display_name": "Python 3 (ipykernel)",
   "language": "python",
   "name": "python3"
  },
  "language_info": {
   "codemirror_mode": {
    "name": "ipython",
    "version": 3
   },
   "file_extension": ".py",
   "mimetype": "text/x-python",
   "name": "python",
   "nbconvert_exporter": "python",
   "pygments_lexer": "ipython3",
   "version": "3.11.3"
  }
 },
 "nbformat": 4,
 "nbformat_minor": 5
}
