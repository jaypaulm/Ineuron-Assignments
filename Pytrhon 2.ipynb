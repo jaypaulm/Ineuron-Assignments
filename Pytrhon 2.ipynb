{
 "cells": [
  {
   "cell_type": "code",
   "execution_count": 1,
   "id": "f00503e3",
   "metadata": {},
   "outputs": [
    {
     "name": "stdout",
     "output_type": "stream",
     "text": [
      "10th Fibonacci number: 34\n"
     ]
    }
   ],
   "source": [
    "def fibonacci(n):\n",
    "    if n <= 0:\n",
    "        return \"Invalid input. n should be a positive integer.\"\n",
    "    elif n == 1:\n",
    "        return 0\n",
    "    elif n == 2:\n",
    "        return 1\n",
    "    else:\n",
    "        a, b = 0, 1\n",
    "        for _ in range(n - 2):\n",
    "            a, b = b, a + b\n",
    "        return b\n",
    "\n",
    "result = fibonacci(10)\n",
    "print(\"10th Fibonacci number:\", result)\n"
   ]
  },
  {
   "cell_type": "code",
   "execution_count": 2,
   "id": "4777bab7",
   "metadata": {},
   "outputs": [
    {
     "name": "stdout",
     "output_type": "stream",
     "text": [
      "Is 21 a Fibonacci number: True\n"
     ]
    }
   ],
   "source": [
    "def is_perfect_square(num):\n",
    "    sqrt_num = int(num ** 0.5)\n",
    "    return sqrt_num * sqrt_num == num\n",
    "\n",
    "def is_fibonacci(num):\n",
    "    return is_perfect_square(5 * num * num + 4) or is_perfect_square(5 * num * num - 4)\n",
    "\n",
    "result = is_fibonacci(21)\n",
    "print(\"Is 21 a Fibonacci number:\", result)\n"
   ]
  },
  {
   "cell_type": "code",
   "execution_count": 3,
   "id": "8b223dcb",
   "metadata": {},
   "outputs": [
    {
     "name": "stdout",
     "output_type": "stream",
     "text": [
      "5th multiple of 3 in Fibonacci Series: 15\n"
     ]
    }
   ],
   "source": [
    "def fibonacci_multiple(n, m):\n",
    "    if n <= 0:\n",
    "        return \"Invalid input. n should be a positive integer.\"\n",
    "    elif n == 1:\n",
    "        return 0\n",
    "    a, b = 0, 1\n",
    "    count = 1\n",
    "    while count < n:\n",
    "        a, b = b, a + b\n",
    "        count += 1\n",
    "    return m * b\n",
    "\n",
    "result = fibonacci_multiple(5, 3)\n",
    "print(\"5th multiple of 3 in Fibonacci Series:\", result)\n"
   ]
  },
  {
   "cell_type": "code",
   "execution_count": 4,
   "id": "2dd1b4b6",
   "metadata": {},
   "outputs": [
    {
     "name": "stdout",
     "output_type": "stream",
     "text": [
      "ASCII value of A: 65\n"
     ]
    }
   ],
   "source": [
    "char = 'A'\n",
    "ascii_value = ord(char)\n",
    "print(f\"ASCII value of {char}: {ascii_value}\")\n"
   ]
  },
  {
   "cell_type": "code",
   "execution_count": 5,
   "id": "c53b9892",
   "metadata": {},
   "outputs": [
    {
     "name": "stdout",
     "output_type": "stream",
     "text": [
      "Sum of squares of first 4 natural numbers: 30\n"
     ]
    }
   ],
   "source": [
    "def sum_of_squares(n):\n",
    "    return (n * (n + 1) * (2 * n + 1)) // 6\n",
    "\n",
    "result = sum_of_squares(4)\n",
    "print(\"Sum of squares of first 4 natural numbers:\", result)\n"
   ]
  },
  {
   "cell_type": "code",
   "execution_count": 6,
   "id": "bb50691a",
   "metadata": {},
   "outputs": [
    {
     "name": "stdout",
     "output_type": "stream",
     "text": [
      "Cube sum of first 3 natural numbers: 36\n"
     ]
    }
   ],
   "source": [
    "def cube_sum(n):\n",
    "    return (n * (n + 1) // 2) ** 2\n",
    "\n",
    "result = cube_sum(3)\n",
    "print(\"Cube sum of first 3 natural numbers:\", result)\n"
   ]
  },
  {
   "cell_type": "code",
   "execution_count": 7,
   "id": "93cbff88",
   "metadata": {},
   "outputs": [
    {
     "name": "stdout",
     "output_type": "stream",
     "text": [
      "Sum of the array: 15\n"
     ]
    }
   ],
   "source": [
    "arr = [1, 2, 3, 4, 5]\n",
    "sum_of_array = sum(arr)\n",
    "print(\"Sum of the array:\", sum_of_array)\n"
   ]
  },
  {
   "cell_type": "code",
   "execution_count": 8,
   "id": "dccce9d3",
   "metadata": {},
   "outputs": [
    {
     "name": "stdout",
     "output_type": "stream",
     "text": [
      "Largest element in the array: 12\n"
     ]
    }
   ],
   "source": [
    "arr = [5, 2, 8, 12, 7]\n",
    "max_element = max(arr)\n",
    "print(\"Largest element in the array:\", max_element)\n"
   ]
  },
  {
   "cell_type": "code",
   "execution_count": 9,
   "id": "b3da8e96",
   "metadata": {},
   "outputs": [
    {
     "name": "stdout",
     "output_type": "stream",
     "text": [
      "Rotated array: [3, 4, 5, 1, 2]\n"
     ]
    }
   ],
   "source": [
    "def rotate_array(arr, k):\n",
    "    k = k % len(arr)\n",
    "    return arr[k:] + arr[:k]\n",
    "\n",
    "arr = [1, 2, 3, 4, 5]\n",
    "k = 2\n",
    "rotated_array = rotate_array(arr, k)\n",
    "print(\"Rotated array:\", rotated_array)\n"
   ]
  },
  {
   "cell_type": "code",
   "execution_count": 10,
   "id": "6548886d",
   "metadata": {},
   "outputs": [
    {
     "name": "stdout",
     "output_type": "stream",
     "text": [
      "Rotated array: [3, 4, 5, 1, 2]\n"
     ]
    }
   ],
   "source": [
    "def reverse_array(arr, start, end):\n",
    "    while start < end:\n",
    "        arr[start], arr[end] = arr[end], arr[start]\n",
    "        start += 1\n",
    "        end -= 1\n",
    "\n",
    "def rotate_array_reversal(arr, k):\n",
    "    n = len(arr)\n",
    "    reverse_array(arr, 0, k - 1)\n",
    "    reverse_array(arr, k, n - 1)\n",
    "    reverse_array(arr, 0, n - 1)\n",
    "    return arr\n",
    "\n",
    "arr = [1, 2, 3, 4, 5]\n",
    "k = 2\n",
    "rotated_array = rotate_array_reversal(arr, k)\n",
    "print(\"Rotated array:\", rotated_array)\n"
   ]
  },
  {
   "cell_type": "code",
   "execution_count": 11,
   "id": "fa6ccd0d",
   "metadata": {},
   "outputs": [
    {
     "name": "stdout",
     "output_type": "stream",
     "text": [
      "Array after splitting and adding: [3, 4, 5, 1, 2]\n"
     ]
    }
   ],
   "source": [
    "def split_and_add(arr, k):\n",
    "    return arr[k:] + arr[:k]\n",
    "\n",
    "arr = [1, 2, 3, 4, 5]\n",
    "k = 2\n",
    "result = split_and_add(arr, k)\n",
    "print(\"Array after splitting and adding:\", result)\n"
   ]
  },
  {
   "cell_type": "code",
   "execution_count": null,
   "id": "cb0fcaf1",
   "metadata": {},
   "outputs": [],
   "source": []
  }
 ],
 "metadata": {
  "kernelspec": {
   "display_name": "Python 3 (ipykernel)",
   "language": "python",
   "name": "python3"
  },
  "language_info": {
   "codemirror_mode": {
    "name": "ipython",
    "version": 3
   },
   "file_extension": ".py",
   "mimetype": "text/x-python",
   "name": "python",
   "nbconvert_exporter": "python",
   "pygments_lexer": "ipython3",
   "version": "3.11.3"
  }
 },
 "nbformat": 4,
 "nbformat_minor": 5
}
