{
 "cells": [
  {
   "cell_type": "code",
   "execution_count": 1,
   "id": "03013175",
   "metadata": {},
   "outputs": [
    {
     "name": "stdout",
     "output_type": "stream",
     "text": [
      "Original String: Hello World\n",
      "String with Reversed Words: World Hello\n"
     ]
    }
   ],
   "source": [
    "def reverse_words(input_string):\n",
    "    words = input_string.split()\n",
    "    reversed_string = ' '.join(reversed(words))\n",
    "    return reversed_string\n",
    "\n",
    "input_string = \"Hello World\"\n",
    "result = reverse_words(input_string)\n",
    "print(\"Original String:\", input_string)\n",
    "print(\"String with Reversed Words:\", result)\n"
   ]
  },
  {
   "cell_type": "code",
   "execution_count": 2,
   "id": "4b79acbc",
   "metadata": {},
   "outputs": [
    {
     "name": "stdout",
     "output_type": "stream",
     "text": [
      "String after removing 2th character: Pyhon\n"
     ]
    }
   ],
   "source": [
    "def remove_ith_character(input_string, i):\n",
    "    result = input_string[:i] + input_string[i+1:]\n",
    "    return result\n",
    "\n",
    "input_string = \"Python\"\n",
    "i = 2\n",
    "result = remove_ith_character(input_string, i)\n",
    "print(f\"String after removing {i}th character:\", result)\n"
   ]
  },
  {
   "cell_type": "code",
   "execution_count": 3,
   "id": "5f19069a",
   "metadata": {},
   "outputs": [
    {
     "name": "stdout",
     "output_type": "stream",
     "text": [
      "Is 'World' present in the string? True\n"
     ]
    }
   ],
   "source": [
    "def is_substring_present(main_string, substring):\n",
    "    return substring in main_string\n",
    "\n",
    "main_string = \"Hello, World!\"\n",
    "substring = \"World\"\n",
    "result = is_substring_present(main_string, substring)\n",
    "print(f\"Is '{substring}' present in the string? {result}\")\n"
   ]
  },
  {
   "cell_type": "code",
   "execution_count": 4,
   "id": "72e9ea9e",
   "metadata": {},
   "outputs": [
    {
     "name": "stdout",
     "output_type": "stream",
     "text": [
      "Word Frequencies: {'Python': 2, 'is': 2, 'easy': 1, 'and': 1, 'fun': 1}\n"
     ]
    }
   ],
   "source": [
    "from collections import Counter\n",
    "\n",
    "def words_frequency(input_string):\n",
    "    word_counts = Counter(input_string.split())\n",
    "    return dict(word_counts)\n",
    "\n",
    "input_string = \"Python is easy and Python is fun\"\n",
    "result = words_frequency(input_string)\n",
    "print(\"Word Frequencies:\", result)\n"
   ]
  },
  {
   "cell_type": "code",
   "execution_count": 5,
   "id": "5e6e529e",
   "metadata": {},
   "outputs": [
    {
     "name": "stdout",
     "output_type": "stream",
     "text": [
      "Pascal Case: HelloWorldPython\n"
     ]
    }
   ],
   "source": [
    "def snake_to_pascal(snake_case):\n",
    "    words = snake_case.split('_')\n",
    "    pascal_case = ''.join(word.capitalize() for word in words)\n",
    "    return pascal_case\n",
    "\n",
    "snake_case_string = \"hello_world_python\"\n",
    "result = snake_to_pascal(snake_case_string)\n",
    "print(\"Pascal Case:\", result)\n"
   ]
  },
  {
   "cell_type": "code",
   "execution_count": 7,
   "id": "59f33fb3",
   "metadata": {},
   "outputs": [
    {
     "name": "stdout",
     "output_type": "stream",
     "text": [
      "Length of the string: 13\n",
      "Length of the string: 13\n",
      "Length of the string: 13\n",
      "Length of the string: 13\n"
     ]
    }
   ],
   "source": [
    "# Method 1: Using len()\n",
    "string = \"Hello, World!\"\n",
    "length = len(string)\n",
    "print(f\"Length of the string: {length}\")\n",
    "\n",
    "# Method 2: Using for loop\n",
    "length = 0\n",
    "for char in string:\n",
    "    length += 1\n",
    "print(f\"Length of the string: {length}\")\n",
    "\n",
    "# Method 3: Using while loop\n",
    "length = 0\n",
    "while string[length:]:\n",
    "    length += 1\n",
    "print(f\"Length of the string: {length}\")\n",
    "\n",
    "# Method 4: Using str.count()\n",
    "length = string.count('')\n",
    "print(f\"Length of the string: {length - 1}\")\n"
   ]
  },
  {
   "cell_type": "code",
   "execution_count": 8,
   "id": "ee0c3db6",
   "metadata": {},
   "outputs": [
    {
     "name": "stdout",
     "output_type": "stream",
     "text": [
      "Even length words: ['Python', 'is', 'easy']\n"
     ]
    }
   ],
   "source": [
    "def even_length_words(input_string):\n",
    "    words = input_string.split()\n",
    "    even_length_words = [word for word in words if len(word) % 2 == 0]\n",
    "    return even_length_words\n",
    "\n",
    "input_string = \"Python is easy and fun\"\n",
    "result = even_length_words(input_string)\n",
    "print(\"Even length words:\", result)\n"
   ]
  },
  {
   "cell_type": "code",
   "execution_count": 9,
   "id": "6229db42",
   "metadata": {},
   "outputs": [
    {
     "name": "stdout",
     "output_type": "stream",
     "text": [
      "Does 'aeioubcdf' contain all vowels? True\n"
     ]
    }
   ],
   "source": [
    "def contains_all_vowels(input_string):\n",
    "    vowels = set(\"aeiou\")\n",
    "    return set(input_string.lower()) >= vowels\n",
    "\n",
    "input_string = \"aeioubcdf\"\n",
    "result = contains_all_vowels(input_string)\n",
    "print(f\"Does '{input_string}' contain all vowels? {result}\")\n"
   ]
  },
  {
   "cell_type": "code",
   "execution_count": 10,
   "id": "28a3b658",
   "metadata": {},
   "outputs": [
    {
     "name": "stdout",
     "output_type": "stream",
     "text": [
      "Number of matching characters: 3\n"
     ]
    }
   ],
   "source": [
    "def count_matching_characters(str1, str2):\n",
    "    return sum(ch1 == ch2 for ch1, ch2 in zip(str1, str2))\n",
    "\n",
    "string1 = \"hello\"\n",
    "string2 = \"holla\"\n",
    "result = count_matching_characters(string1, string2)\n",
    "print(\"Number of matching characters:\", result)\n"
   ]
  },
  {
   "cell_type": "code",
   "execution_count": 11,
   "id": "521c606f",
   "metadata": {},
   "outputs": [
    {
     "name": "stdout",
     "output_type": "stream",
     "text": [
      "String after removing duplicates: progamin\n"
     ]
    }
   ],
   "source": [
    "def remove_duplicates(input_string):\n",
    "    unique_characters = ''.join(sorted(set(input_string), key=input_string.index))\n",
    "    return unique_characters\n",
    "\n",
    "input_string = \"programming\"\n",
    "result = remove_duplicates(input_string)\n",
    "print(\"String after removing duplicates:\", result)\n"
   ]
  },
  {
   "cell_type": "code",
   "execution_count": null,
   "id": "d621769c",
   "metadata": {},
   "outputs": [],
   "source": []
  }
 ],
 "metadata": {
  "kernelspec": {
   "display_name": "Python 3 (ipykernel)",
   "language": "python",
   "name": "python3"
  },
  "language_info": {
   "codemirror_mode": {
    "name": "ipython",
    "version": 3
   },
   "file_extension": ".py",
   "mimetype": "text/x-python",
   "name": "python",
   "nbconvert_exporter": "python",
   "pygments_lexer": "ipython3",
   "version": "3.11.3"
  }
 },
 "nbformat": 4,
 "nbformat_minor": 5
}
