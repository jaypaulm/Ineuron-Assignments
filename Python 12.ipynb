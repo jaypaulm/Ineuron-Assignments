{
 "cells": [
  {
   "cell_type": "code",
   "execution_count": 1,
   "id": "062531b0",
   "metadata": {},
   "outputs": [
    {
     "name": "stdout",
     "output_type": "stream",
     "text": [
      "Dictionary: {1: 'one', 2: 'two', 3: 'three'}\n"
     ]
    }
   ],
   "source": [
    "# Using dict()\n",
    "def convert_to_dict(tuple_list):\n",
    "    result_dict = dict(tuple_list)\n",
    "    return result_dict\n",
    "\n",
    "tuple_list = [(1, 'one'), (2, 'two'), (3, 'three')]\n",
    "result = convert_to_dict(tuple_list)\n",
    "print(\"Dictionary:\", result)\n"
   ]
  },
  {
   "cell_type": "code",
   "execution_count": 2,
   "id": "19869ea0",
   "metadata": {},
   "outputs": [
    {
     "name": "stdout",
     "output_type": "stream",
     "text": [
      "Can 'abc' be made from 'abcdef'? True\n"
     ]
    }
   ],
   "source": [
    "from collections import Counter\n",
    "\n",
    "def can_make_string(original_str, target_str):\n",
    "    original_counts = Counter(original_str)\n",
    "    target_counts = Counter(target_str)\n",
    "\n",
    "    # Check if original string contains characters in sufficient counts\n",
    "    return all(original_counts[char] >= count for char, count in target_counts.items())\n",
    "\n",
    "original_str = \"abcdef\"\n",
    "target_str = \"abc\"\n",
    "result = can_make_string(original_str, target_str)\n",
    "print(f\"Can '{target_str}' be made from '{original_str}'? {result}\")\n"
   ]
  },
  {
   "cell_type": "code",
   "execution_count": 3,
   "id": "5e402a65",
   "metadata": {},
   "outputs": [
    {
     "name": "stdout",
     "output_type": "stream",
     "text": [
      "Can frequencies of characters in 'xyyz' become the same? True\n"
     ]
    }
   ],
   "source": [
    "from collections import Counter\n",
    "\n",
    "def can_have_equal_frequencies(input_str):\n",
    "    char_frequencies = Counter(input_str)\n",
    "    frequency_set = set(char_frequencies.values())\n",
    "\n",
    "    # Check if all frequencies are the same or if removing one character can make them the same\n",
    "    return len(frequency_set) == 1 or (len(frequency_set) == 2 and (1 in frequency_set or abs(frequency_set.pop() - frequency_set.pop()) == 1))\n",
    "\n",
    "input_str = \"xyyz\"\n",
    "result = can_have_equal_frequencies(input_str)\n",
    "print(f\"Can frequencies of characters in '{input_str}' become the same? {result}\")\n"
   ]
  },
  {
   "cell_type": "code",
   "execution_count": 4,
   "id": "3266f876",
   "metadata": {},
   "outputs": [
    {
     "name": "stdout",
     "output_type": "stream",
     "text": [
      "Ordered words in the dictionary: ['a', 'aa', 'aaa', 'aah', 'aahs', 'aal', 'aals', 'aam', 'aaru', 'aas', 'ab', 'abb', 'abbe', 'abbey', 'abbes', 'abbess', 'abbest', 'abby', 'abbot', 'abbott', 'abbr', 'abc', 'abcess', 'abd', 'abdest', 'abe', 'abey', 'abel', 'aberr', 'abet', 'abhor', 'abhors', 'aby', 'abilo', 'abir', 'abit', 'abl', 'ably', 'ablow', 'abn', 'abo', 'abort', 'abos', 'abow', 'abox', 'abp', 'abr', 'abs', 'abt', 'abu', 'abuzz', 'abv', 'ac', 'acc', 'acce', 'accel', 'accent', 'accept', 'access', 'accloy', 'accoy', 'accost', 'acct', 'ace', 'acer', 'aces', 'ach', 'achy', 'achill', 'achoo', 'achor', 'acy', 'acis', 'ack', 'acknow', 'aclu', 'acop', 'acor', 'acost', 'acpt', 'acrux', 'act', 'actu', 'ad', 'add', 'addeem', 'adder', 'adders', 'addy', 'addio', 'addis', 'addn', 'addr', 'adds', 'addu', 'ade', 'adeem', 'adeems', 'adeep', 'adelops', 'adempt', 'aden', 'adeps', 'adept', 'adet', 'adfix', 'adhort', 'ady', 'adin', 'adios', 'adipsy', 'adit', 'adj', 'adjt', 'adm', 'admov', 'admrx', 'ado', 'adoors', 'adopt', 'ador', 'ados', 'adoxy', 'adp', 'adry', 'ads', 'adv', 'adz', 'ae', 'aegilops', 'aegir', 'aegis', 'aeq', 'aer', 'aery', 'aes', 'aet', 'af', 'aff', 'affy', 'affix', 'afflux', 'afft', 'aflow', 'afoot', 'aft', 'ag', 'aggry', 'agy', 'agin', 'agio', 'agios', 'agist', 'agit', 'agly', 'aglow', 'agnosy', 'ago', 'agos', 'agr', 'agst', 'agt', 'ah', 'ahi', 'ahint', 'ahir', 'aho', 'ahoy', 'ahs', 'aht', 'ahu', 'ai', 'ay', 'aik', 'ail', 'aillt', 'ails', 'aim', 'aims', 'ain', 'ains', 'aint', 'ainu', 'air', 'airy', 'airs', 'airt', 'ais', 'ait', 'aix', 'ak', 'aknow', 'ako', 'akov', 'aku', 'al', 'aly', 'all', 'ally', 'allo', 'alloy', 'alloo', 'alloquy', 'allot', 'allow', 'alloxy', 'alls', 'almost', 'alms', 'aln', 'alo', 'alop', 'alow', 'alp', 'alps', 'als', 'alt', 'alw', 'am', 'amy', 'ammo', 'ammos', 'ammu', 'amoy', 'amor', 'amort', 'amos', 'amp', 'amps', 'amt', 'amu', 'an', 'any', 'ann', 'anno', 'annoy', 'annot', 'anopsy', 'ans', 'ansu', 'ant', 'antu', 'ao', 'aor', 'ap', 'app', 'appt', 'apr', 'apt', 'apx', 'aq', 'ar', 'ary', 'arr', 'arry', 'ars', 'art', 'arty', 'aru', 'arx', 'as', 'ass', 'asst', 'ast', 'at', 'att', 'atty', 'aux', 'av', 'aw', 'ax', 'az', 'b', 'bb', 'bbl', 'bbls', 'bbs', 'bcd', 'bcf', 'bch', 'bchs', 'bd', 'bde', 'bdft', 'bdl', 'bdls', 'bds', 'be', 'bee', 'beef', 'beefy', 'beefily', 'beefin', 'beefs', 'beek', 'been', 'beent', 'beep', 'beeps', 'beer', 'beery', 'beers', 'bees', 'beest', 'beet', 'beety', 'bef', 'befist', 'befit', 'befop', 'beg', 'begin', 'begins', 'begirt', 'bego', 'begorry', 'begot', 'begs', 'behint', 'behn', 'behoot', 'bey', 'bein', 'bekko', 'beknot', 'beknow', 'bel', 'bely', 'bell', 'belly', 'bello', 'belloot', 'bellow', 'bells', 'below', 'bels', 'belt', 'ben', 'benn', 'benny', 'beno', 'bens', 'bent', 'benty', 'benu', 'ber', 'berry', 'bert', 'bes', 'bess', 'bessy', 'best', 'bet', 'betty', 'bevy', 'bevvy', 'bf', 'bg', 'bhikku', 'bhil', 'bhoy', 'bhoot', 'bhp', 'bi', 'by', 'bijou', 'bijoux', 'bill', 'billy', 'billot', 'billow', 'billowy', 'bills', 'bilo', 'bilos', 'bim', 'bin', 'binny', 'bino', 'bins', 'bint', 'bio', 'biopsy', 'bios', 'birr', 'birrs', 'birsy', 'birt', 'bis', 'bist', 'bit', 'bitt', 'bitty', 'bivvy', 'biz', 'bizz', 'bk', 'bklr', 'bkpr', 'bkpt', 'bks', 'bkt', 'bl', 'blo', 'bloop', 'bloops', 'blot', 'blotty', 'blow', 'blowy', 'bls', 'bm', 'bn', 'bo', 'boy', 'boo', 'boor', 'boors', 'boort', 'boos', 'boosy', 'boost', 'boot', 'booty', 'bop', 'bops', 'bor', 'bors', 'bort', 'borty', 'bortz', 'bos', 'boss', 'bossy', 'bot', 'bott', 'bottu', 'bouw', 'bow', 'box', 'boxy', 'bp', 'bps', 'bpt', 'br', 'brr', 'brrr', 'bruzz', 'bs', 'bt', 'btu', 'bu', 'buy', 'buz', 'buzz', 'bv', 'bx', 'bz', 'c', 'cc', 'ccitt', 'cckw', 'ccm', 'ccw', 'cd', 'cdf', 'cdg', 'cdr', 'ce', 'cee', 'cees', 'ceil', 'ceils', 'ceint', 'cell', 'cello', 'cellos', 'cells', 'celt', 'cen', 'cent', 'cep', 'ceps', 'cert', 'certy', 'cess', 'cest', 'cestuy', 'cf', 'cfh', 'cfi', 'cfm', 'cfs', 'cg', 'cgm', 'cgs', 'ch', 'chi', 'chil', 'chill', 'chilly', 'chillo', 'chills', 'chimp', 'chimps', 'chimu', 'chin', 'chinny', 'chino', 'chinos', 'chins', 'chint', 'chintz', 'chiot', 'chip', 'chippy', 'chips', 'chirr', 'chirrs', 'chirt', 'chiru', 'chis', 'chit', 'chitty', 'chiv', 'chivy', 'chivvy', 'chivw', 'chizz', 'chlor', 'chm', 'chmn', 'chn', 'cho', 'choy', 'choop', 'choosy', 'chop', 'choppy', 'chops', 'chort', 'chott', 'chou', 'choux', 'chow', 'chry', 'chs', 'cy', 'cill', 'cir', 'cis', 'cissy', 'cist', 'cit', 'city', 'civ', 'civy', 'civvy', 'ck', 'ckw', 'cl', 'cly', 'clo', 'cloy', 'cloop', 'cloot', 'clop', 'clops', 'clos', 'clot', 'clotty', 'clou', 'clow', 'clr', 'cm', 'co', 'coy', 'coo', 'coop', 'coops', 'coopt', 'coos', 'coost', 'coot', 'cooty', 'cop', 'copy', 'coppy', 'copps', 'copr', 'cops', 'copsy', 'copt', 'cor', 'cory', 'corr', 'corsy', 'cort', 'corv', 'cos', 'cosy', 'coss', 'cost', 'cot', 'cott', 'cotty', 'cow', 'cowy', 'cox', 'coxy', 'coz', 'cp', 'cps', 'cpt', 'cpu', 'cq', 'cr', 'cry', 'crs', 'cru', 'crux', 'cs', 'cst', 'csw', 'ct', 'cu', 'cuvy', 'cv', 'd', 'dd', 'ddt', 'de', 'dee', 'deek', 'deem', 'deems', 'deeny', 'deep', 'deeps', 'deer', 'deers', 'dees', 'deess', 'def', 'defi', 'defy', 'defis', 'defix', 'deflow', 'deflux', 'defs', 'deft', 'deg', 'deglory', 'degu', 'dehors', 'dehort', 'dei', 'dey', 'deil', 'deils', 'deimos', 'deino', 'deinos', 'deis', 'deist', 'deity', 'dekko', 'dekkos', 'del', 'dely', 'dell', 'delly', 'dells', 'deloo', 'dels', 'dem', 'demy', 'demo', 'demos', 'demot', 'den', 'deny', 'dens', 'dent', 'denty', 'dep', 'depr', 'dept', 'der', 'derry', 'derv', 'des', 'dess', 'det', 'deux', 'dev', 'dew', 'dewy', 'dex', 'dft', 'dg', 'dhikr', 'dhikrs', 'dhoty', 'dhow', 'dhu', 'di', 'dy', 'dikkop', 'dil', 'dill', 'dilly', 'dills', 'dilo', 'dilos', 'diluvy', 'dim', 'dimmy', 'dimps', 'dimpsy', 'dims', 'din', 'dino', 'dinos', 'dins', 'dint', 'dioxy', 'dip', 'dippy', 'dipppy', 'dips', 'dipsy', 'dipt', 'dir', 'dirt', 'dirty', 'dis', 'diss', 'dist', 'disty', 'dit', 'ditt', 'ditty', 'div', 'divvy', 'dix', 'dixy', 'dizz', 'dj', 'dk', 'dkl', 'dkm', 'dks', 'dl', 'dlr', 'dlvy', 'dm', 'dn', 'do', 'doo', 'door', 'doors', 'dop', 'dopy', 'dor', 'dory', 'dorr', 'dorrs', 'dors', 'dort', 'dorty', 'dos', 'doss', 'dossy', 'dost', 'dot', 'doty', 'dotty', 'doux', 'dow', 'dowy', 'doxy', 'doz', 'dp', 'dpt', 'dr', 'dry', 'druxy', 'ds', 'dt', 'du', 'dux', 'dx', 'dz', 'e', 'ee', 'eel', 'eely', 'eels', 'een', 'eer', 'eery', 'ef', 'eff', 'efflux', 'effort', 'effs', 'efik', 'efl', 'efs', 'eft', 'eg', 'egg', 'egghot', 'eggy', 'eggs', 'egilops', 'egis', 'ego', 'egos', 'eh', 'ey', 'eir', 'eiry', 'ejoo', 'el', 'ell', 'ellops', 'ells', 'elm', 'elmy', 'elms', 'elops', 'els', 'elt', 'em', 'emm', 'emmy', 'emory', 'emp', 'empt', 'empty', 'ems', 'emu', 'en', 'ennoy', 'enos', 'enow', 'ens', 'env', 'envy', 'eo', 'eos', 'ep', 'eppy', 'eq', 'er', 'err', 'errs', 'ers', 'erst', 'es', 'ess', 'est', 'esu', 'et', 'ety', 'eu', 'ew', 'ex', 'f', 'ff', 'fg', 'fgn', 'fi', 'fy', 'fil', 'fill', 'filly', 'fills', 'film', 'filmy', 'films', 'filo', 'fils', 'filt', 'fin', 'finn', 'finny', 'finns', 'fino', 'fins', 'fiot', 'fip', 'fir', 'firy', 'firry', 'firs', 'first', 'fist', 'fisty', 'fit', 'fitty', 'fitz', 'fix', 'fiz', 'fizz', 'fl', 'fly', 'fll', 'flo', 'floor', 'floors', 'floosy', 'flop', 'floppy', 'flops', 'flor', 'flory', 'floss', 'flossy', 'flot', 'flow', 'flu', 'flux', 'fm', 'fmt', 'fn', 'fo', 'foy', 'foo', 'foot', 'footy', 'fop', 'foppy', 'fops', 'for', 'forst', 'fort', 'forty', 'forz', 'foss', 'fot', 'fou', 'fow', 'fox', 'foxy', 'fp', 'fps', 'fr', 'fry', 'frs', 'frt', 'fruz', 'frwy', 'fs', 'ft', 'fu', 'fuzz', 'fv', 'fw', 'fz', 'g', 'ggr', 'ghi', 'ghis', 'ghost', 'ghosty', 'ghuz', 'gi', 'gil', 'gill', 'gilly', 'gillot', 'gills', 'gilo', 'gilpy', 'gils', 'gilt', 'gilty', 'gim', 'gimmor', 'gimp', 'gimpy', 'gimps', 'gin', 'ginn', 'ginny', 'gins', 'gio', 'gip', 'gippy', 'gips', 'gipsy', 'girr', 'girt', 'gis', 'gist', 'git', 'gizz', 'gl', 'gloy', 'glop', 'gloppy', 'glops', 'glor', 'glory', 'glos', 'gloss', 'glossy', 'glost', 'glow', 'glt', 'gm', 'gn', 'gnow', 'gns', 'gnu', 'go', 'goy', 'goo', 'goop', 'goopy', 'goops', 'goos', 'goosy', 'gor', 'gory', 'gorry', 'gorsy', 'gorst', 'gos', 'goss', 'gossy', 'got', 'gou', 'gov', 'gox', 'gp', 'gps', 'gpss', 'gr', 'gry', 'grr', 'grs', 'grx', 'gs', 'gt', 'gtt', 'gu', 'guy', 'guv', 'guz', 'gv', 'h', 'hi', 'hy', 'hill', 'hilly', 'hillo', 'hillos', 'hills', 'hilt', 'him', 'himp', 'hin', 'hinny', 'hins', 'hint', 'hip', 'hippy', 'hips', 'hir', 'hirst', 'his', 'hiss', 'hissy', 'hist', 'hit', 'hizz', 'hl', 'hm', 'hny', 'ho', 'hoy', 'hoo', 'hoop', 'hoops', 'hoot', 'hop', 'hoppy', 'hops', 'hor', 'hory', 'horry', 'hors', 'horsy', 'horst', 'hort', 'hoss', 'host', 'hot', 'how', 'hox', 'hp', 'hq', 'hr', 'hrs', 'hs', 'ht', 'hu', 'huzz', 'hv', 'hvy', 'hw', 'hwy', 'i', 'y', 'ii', 'iii', 'ijo', 'ik', 'il', 'ill', 'illy', 'ills', 'ilot', 'im', 'immy', 'immov', 'imp', 'impy', 'imps', 'impv', 'imu', 'in', 'inn', 'inns', 'ino', 'ins', 'inst', 'int', 'inv', 'io', 'ios', 'iou', 'ipr', 'ips', 'iq', 'iqs', 'ir', 'irs', 'is', 'ist', 'isz', 'it', 'iv', 'ivy', 'iw', 'ix', 'j', 'jms', 'jnt', 'jo', 'joy', 'jos', 'joss', 'jot', 'jotty', 'jovy', 'jow', 'jr', 'js', 'jt', 'ju', 'juv', 'k', 'ky', 'kl', 'kln', 'klop', 'klops', 'km', 'kn', 'knop', 'knoppy', 'knops', 'knorr', 'knot', 'knotty', 'know', 'knox', 'ko', 'kop', 'kops', 'kor', 'kory', 'kors', 'kos', 'koss', 'kou', 'kr', 'krs', 'kru', 'kt', 'kv', 'kw', 'l', 'ly', 'll', 'lm', 'ln', 'lnr', 'lo', 'loy', 'loo', 'loop', 'loopy', 'loops', 'loory', 'loos', 'loot', 'lop', 'loppy', 'lops', 'loq', 'lor', 'lory', 'lorry', 'lors', 'loss', 'lossy', 'lost', 'lot', 'lou', 'low', 'lowy', 'lox', 'lp', 'lr', 'ls', 'lst', 'lt', 'lu', 'lux', 'lv', 'lx', 'lxx', 'm', 'my', 'mm', 'mmmm', 'mn', 'mo', 'moy', 'moo', 'moop', 'moor', 'moory', 'moors', 'moos', 'moost', 'moot', 'mop', 'mopy', 'moppy', 'mops', 'mopsy', 'mor', 'mors', 'mort', 'morw', 'mos', 'moss', 'mossy', 'most', 'mot', 'mott', 'motty', 'mou', 'mow', 'mp', 'mr', 'mrs', 'mru', 'ms', 'mss', 'mt', 'mtx', 'mu', 'mux', 'muzz', 'mv', 'mw', 'n', 'ny', 'no', 'noy', 'noo', 'noop', 'nor', 'norry', 'nos', 'nosy', 'nosu', 'not', 'nou', 'nov', 'now', 'nowy', 'nox', 'np', 'nr', 'ns', 'nt', 'nu', 'nv', 'o', 'oy', 'oooo', 'oops', 'oory', 'oos', 'oot', 'op', 'opp', 'ops', 'opsy', 'opt', 'or', 'ory', 'ors', 'ort', 'os', 'ot', 'ow', 'ox', 'oxy', 'oz', 'p', 'pp', 'ppr', 'pps', 'ppt', 'pq', 'pr', 'pry', 'prs', 'ps', 'psst', 'pst', 'psw', 'pt', 'pty', 'ptt', 'pu', 'puy', 'puxy', 'q', 'qy', 'qqv', 'qr', 'qrs', 'qs', 'qt', 'qty', 'qu', 'qv', 'r', 'rs', 'rt', 'rtw', 'rux', 'rwy', 's', 'ss', 'ssu', 'st', 'sty', 'stu', 'su', 'suu', 'suz', 'sv', 'sw', 'swy', 't', 'tty', 'tu', 'tuy', 'tux', 'tv', 'tx', 'u', 'ux', 'v', 'vv', 'w', 'wy', 'x', 'xyz', 'xx', 'xxx', 'z']\n"
     ]
    }
   ],
   "source": [
    "import requests\n",
    "\n",
    "def find_ordered_words(url):\n",
    "    response = requests.get(url)\n",
    "    words = response.text.split()\n",
    "    \n",
    "    ordered_words = [word for word in words if ''.join(sorted(word)) == word]\n",
    "    return ordered_words\n",
    "\n",
    "url = \"https://raw.githubusercontent.com/dwyl/english-words/master/words_alpha.txt\"\n",
    "result = find_ordered_words(url)\n",
    "print(\"Ordered words in the dictionary:\", result)\n"
   ]
  },
  {
   "cell_type": "code",
   "execution_count": 5,
   "id": "9ff6baaa",
   "metadata": {},
   "outputs": [
    {
     "name": "stdout",
     "output_type": "stream",
     "text": [
      "Possible words using given characters: ['abc', 'acb', 'bac', 'bca', 'cab', 'cba']\n"
     ]
    }
   ],
   "source": [
    "from itertools import permutations\n",
    "\n",
    "def possible_words(characters):\n",
    "    word_permutations = [''.join(perm) for perm in permutations(characters)]\n",
    "    return word_permutations\n",
    "\n",
    "input_characters = \"abc\"\n",
    "result = possible_words(input_characters)\n",
    "print(\"Possible words using given characters:\", result)\n"
   ]
  },
  {
   "cell_type": "code",
   "execution_count": 6,
   "id": "7277f1e8",
   "metadata": {},
   "outputs": [
    {
     "name": "stdout",
     "output_type": "stream",
     "text": [
      "Keys associated with value 1: {'a', 'c'}\n"
     ]
    }
   ],
   "source": [
    "my_dict = {'a': 1, 'b': 2, 'c': 1, 'd': 2}\n",
    "\n",
    "# Using dictionary comprehension\n",
    "result = {key for key, value in my_dict.items() if value == 1}\n",
    "print(\"Keys associated with value 1:\", result)\n"
   ]
  },
  {
   "cell_type": "code",
   "execution_count": 7,
   "id": "e85e5f9c",
   "metadata": {},
   "outputs": [
    {
     "name": "stdout",
     "output_type": "stream",
     "text": [
      "Size of the Tuple: 6\n"
     ]
    }
   ],
   "source": [
    "my_tuple = (1, 2, 3, 'a', 'b', 'c')\n",
    "\n",
    "# Using len()\n",
    "size_of_tuple = len(my_tuple)\n",
    "print(\"Size of the Tuple:\", size_of_tuple)\n"
   ]
  },
  {
   "cell_type": "code",
   "execution_count": 8,
   "id": "e8c10b79",
   "metadata": {},
   "outputs": [
    {
     "name": "stdout",
     "output_type": "stream",
     "text": [
      "Maximum 3 elements in the tuple: [9, 7, 5]\n",
      "Minimum 3 elements in the tuple: [1, 2, 4]\n"
     ]
    }
   ],
   "source": [
    "my_tuple = (4, 7, 2, 9, 1, 5)\n",
    "\n",
    "# Using sorted()\n",
    "k = 3\n",
    "max_k_elements = sorted(my_tuple, reverse=True)[:k]\n",
    "min_k_elements = sorted(my_tuple)[:k]\n",
    "\n",
    "print(f\"Maximum {k} elements in the tuple:\", max_k_elements)\n",
    "print(f\"Minimum {k} elements in the tuple:\", min_k_elements)\n"
   ]
  },
  {
   "cell_type": "code",
   "execution_count": 9,
   "id": "1d4877e2",
   "metadata": {},
   "outputs": [
    {
     "name": "stdout",
     "output_type": "stream",
     "text": [
      "List of tuples: [(1, 1), (2, 8), (3, 27), (4, 64), (5, 125)]\n"
     ]
    }
   ],
   "source": [
    "my_list = [1, 2, 3, 4, 5]\n",
    "\n",
    "# Using list comprehension\n",
    "tuple_list = [(num, num**3) for num in my_list]\n",
    "print(\"List of tuples:\", tuple_list)\n"
   ]
  },
  {
   "cell_type": "code",
   "execution_count": 10,
   "id": "fb3cee50",
   "metadata": {},
   "outputs": [
    {
     "name": "stdout",
     "output_type": "stream",
     "text": [
      "List after adding tuple: [1, 2, 3, 'a', 'b', 'c']\n",
      "Tuple after adding list: ('a', 'b', 'c', 1, 2, 3)\n"
     ]
    }
   ],
   "source": [
    "my_list = [1, 2, 3]\n",
    "my_tuple = ('a', 'b', 'c')\n",
    "\n",
    "# Adding tuple to list\n",
    "list_with_tuple = my_list + list(my_tuple)\n",
    "print(\"List after adding tuple:\", list_with_tuple)\n",
    "\n",
    "# Adding list to tuple\n",
    "tuple_with_list = my_tuple + tuple(my_list)\n",
    "print(\"Tuple after adding list:\", tuple_with_list)\n"
   ]
  },
  {
   "cell_type": "code",
   "execution_count": 11,
   "id": "f82ce365",
   "metadata": {},
   "outputs": [
    {
     "name": "stdout",
     "output_type": "stream",
     "text": [
      "Closest pair to 10th index element: 9\n"
     ]
    }
   ],
   "source": [
    "def closest_pair_to_kth_index(my_tuple, k):\n",
    "    closest_pair = min(my_tuple, key=lambda x: abs(x - k))\n",
    "    return closest_pair\n",
    "\n",
    "my_tuple = (1, 5, 9, 12, 15)\n",
    "k = 10\n",
    "result = closest_pair_to_kth_index(my_tuple, k)\n",
    "print(f\"Closest pair to {k}th index element: {result}\")\n"
   ]
  },
  {
   "cell_type": "code",
   "execution_count": null,
   "id": "7d2cff53",
   "metadata": {},
   "outputs": [],
   "source": []
  }
 ],
 "metadata": {
  "kernelspec": {
   "display_name": "Python 3 (ipykernel)",
   "language": "python",
   "name": "python3"
  },
  "language_info": {
   "codemirror_mode": {
    "name": "ipython",
    "version": 3
   },
   "file_extension": ".py",
   "mimetype": "text/x-python",
   "name": "python",
   "nbconvert_exporter": "python",
   "pygments_lexer": "ipython3",
   "version": "3.11.3"
  }
 },
 "nbformat": 4,
 "nbformat_minor": 5
}
