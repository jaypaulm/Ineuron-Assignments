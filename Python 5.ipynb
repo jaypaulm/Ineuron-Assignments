{
 "cells": [
  {
   "cell_type": "code",
   "execution_count": 1,
   "id": "94073e44",
   "metadata": {},
   "outputs": [
    {
     "name": "stdout",
     "output_type": "stream",
     "text": [
      "Negative numbers in the range: [-5, -4, -3, -2, -1]\n"
     ]
    }
   ],
   "source": [
    "def print_negative_numbers_in_range(start, end):\n",
    "    negative_numbers = [num for num in range(start, end + 1) if num < 0]\n",
    "    print(\"Negative numbers in the range:\", negative_numbers)\n",
    "\n",
    "print_negative_numbers_in_range(-5, 5)\n"
   ]
  },
  {
   "cell_type": "code",
   "execution_count": 3,
   "id": "b1dad28b",
   "metadata": {},
   "outputs": [
    {
     "name": "stdout",
     "output_type": "stream",
     "text": [
      "List after removing elements: [1, 2, 4, 6, 8, 9, 10]\n"
     ]
    }
   ],
   "source": [
    "def remove_elements(lst, elements_to_remove):\n",
    "    return [elem for elem in lst if elem not in elements_to_remove]\n",
    "\n",
    "my_list = [1, 2, 3, 4, 5, 6, 7, 8, 9, 10]\n",
    "elements_to_remove = [3, 5, 7]\n",
    "result = remove_elements(my_list, elements_to_remove)\n",
    "print(\"List after removing elements:\", result)\n",
    "\n"
   ]
  },
  {
   "cell_type": "code",
   "execution_count": 4,
   "id": "03208bd7",
   "metadata": {},
   "outputs": [
    {
     "name": "stdout",
     "output_type": "stream",
     "text": [
      "List after removing empty lists: [1, 3, 5, 7, 9]\n"
     ]
    }
   ],
   "source": [
    "def remove_empty_lists(lst):\n",
    "    return [sublist for sublist in lst if sublist]\n",
    "\n",
    "my_list = [1, [], 3, [], 5, [], 7, [], 9]\n",
    "result = remove_empty_lists(my_list)\n",
    "print(\"List after removing empty lists:\", result)\n"
   ]
  },
  {
   "cell_type": "code",
   "execution_count": 5,
   "id": "02f8d364",
   "metadata": {},
   "outputs": [
    {
     "name": "stdout",
     "output_type": "stream",
     "text": [
      "Original list: [1, 2, 3, 4, 5]\n",
      "Cloned list: [1, 2, 3, 4, 5]\n"
     ]
    }
   ],
   "source": [
    "original_list = [1, 2, 3, 4, 5]\n",
    "cloned_list = original_list.copy()\n",
    "print(\"Original list:\", original_list)\n",
    "print(\"Cloned list:\", cloned_list)\n"
   ]
  },
  {
   "cell_type": "code",
   "execution_count": 7,
   "id": "1e42f57a",
   "metadata": {},
   "outputs": [
    {
     "name": "stdout",
     "output_type": "stream",
     "text": [
      "Occurrences of 2 in the list: 3\n"
     ]
    }
   ],
   "source": [
    "def count_occurrences(lst, element):\n",
    "    return lst.count(element)\n",
    "\n",
    "my_list = [1, 2, 3, 4, 2, 5, 2, 6]\n",
    "element_to_count = 2\n",
    "result = count_occurrences(my_list, element_to_count)\n",
    "print(f\"Occurrences of {element_to_count} in the list:\", result)\n"
   ]
  },
  {
   "cell_type": "code",
   "execution_count": 8,
   "id": "bccbb350",
   "metadata": {},
   "outputs": [
    {
     "name": "stdout",
     "output_type": "stream",
     "text": [
      "List after removing empty tuples: [(1, 2), (3, 4), (5, 6)]\n"
     ]
    }
   ],
   "source": [
    "def remove_empty_tuples(lst):\n",
    "    return [tup for tup in lst if tup]\n",
    "\n",
    "my_list = [(1, 2), (), (3, 4), (), (5, 6), ()]\n",
    "result = remove_empty_tuples(my_list)\n",
    "print(\"List after removing empty tuples:\", result)\n"
   ]
  },
  {
   "cell_type": "code",
   "execution_count": 9,
   "id": "2de7d99f",
   "metadata": {},
   "outputs": [
    {
     "name": "stdout",
     "output_type": "stream",
     "text": [
      "Duplicates in the list: [2, 7]\n"
     ]
    }
   ],
   "source": [
    "def find_duplicates(lst):\n",
    "    seen = set()\n",
    "    duplicates = set()\n",
    "    for elem in lst:\n",
    "        if elem in seen:\n",
    "            duplicates.add(elem)\n",
    "        else:\n",
    "            seen.add(elem)\n",
    "    return list(duplicates)\n",
    "\n",
    "my_list = [1, 2, 3, 2, 4, 5, 6, 7, 8, 7]\n",
    "result = find_duplicates(my_list)\n",
    "print(\"Duplicates in the list:\", result)\n"
   ]
  },
  {
   "cell_type": "code",
   "execution_count": 10,
   "id": "7a6f9be6",
   "metadata": {},
   "outputs": [
    {
     "name": "stdout",
     "output_type": "stream",
     "text": [
      "Cumulative sum of the list: [1, 3, 6, 10, 15]\n"
     ]
    }
   ],
   "source": [
    "def cumulative_sum(lst):\n",
    "    result = []\n",
    "    sum_so_far = 0\n",
    "    for num in lst:\n",
    "        sum_so_far += num\n",
    "        result.append(sum_so_far)\n",
    "    return result\n",
    "\n",
    "my_list = [1, 2, 3, 4, 5]\n",
    "result = cumulative_sum(my_list)\n",
    "print(\"Cumulative sum of the list:\", result)\n"
   ]
  },
  {
   "cell_type": "code",
   "execution_count": 11,
   "id": "3df0970b",
   "metadata": {},
   "outputs": [
    {
     "name": "stdout",
     "output_type": "stream",
     "text": [
      "Sum of digits in the list: [6, 9, 21, 9]\n"
     ]
    }
   ],
   "source": [
    "def sum_of_digits_in_list(lst):\n",
    "    return [sum(map(int, str(num))) for num in lst]\n",
    "\n",
    "my_list = [123, 45, 678, 9]\n",
    "result = sum_of_digits_in_list(my_list)\n",
    "print(\"Sum of digits in the list:\", result)\n"
   ]
  },
  {
   "cell_type": "code",
   "execution_count": 12,
   "id": "807c6753",
   "metadata": {},
   "outputs": [
    {
     "name": "stdout",
     "output_type": "stream",
     "text": [
      "List after breaking into chunks of size 3: [[1, 2, 3], [4, 5, 6], [7, 8, 9], [10]]\n"
     ]
    }
   ],
   "source": [
    "def chunk_list(lst, chunk_size):\n",
    "    return [lst[i:i + chunk_size] for i in range(0, len(lst), chunk_size)]\n",
    "\n",
    "my_list = [1, 2, 3, 4, 5, 6, 7, 8, 9, 10]\n",
    "chunk_size = 3\n",
    "result = chunk_list(my_list, chunk_size)\n",
    "print(f\"List after breaking into chunks of size {chunk_size}:\", result)\n"
   ]
  },
  {
   "cell_type": "code",
   "execution_count": 13,
   "id": "ef5795b3",
   "metadata": {},
   "outputs": [
    {
     "name": "stdout",
     "output_type": "stream",
     "text": [
      "First list sorted using the second list: [20, 50, 10, 30, 40]\n"
     ]
    }
   ],
   "source": [
    "def sort_list_using_another(original_list, sorting_list):\n",
    "    sorted_pairs = sorted(zip(sorting_list, original_list))\n",
    "    return [element for _, element in sorted_pairs]\n",
    "\n",
    "first_list = [10, 20, 30, 40, 50]\n",
    "second_list = [3, 1, 4, 5, 2]\n",
    "result = sort_list_using_another(first_list, second_list)\n",
    "print(\"First list sorted using the second list:\", result)\n"
   ]
  },
  {
   "cell_type": "code",
   "execution_count": null,
   "id": "62509742",
   "metadata": {},
   "outputs": [],
   "source": []
  }
 ],
 "metadata": {
  "kernelspec": {
   "display_name": "Python 3 (ipykernel)",
   "language": "python",
   "name": "python3"
  },
  "language_info": {
   "codemirror_mode": {
    "name": "ipython",
    "version": 3
   },
   "file_extension": ".py",
   "mimetype": "text/x-python",
   "name": "python",
   "nbconvert_exporter": "python",
   "pygments_lexer": "ipython3",
   "version": "3.11.3"
  }
 },
 "nbformat": 4,
 "nbformat_minor": 5
}
