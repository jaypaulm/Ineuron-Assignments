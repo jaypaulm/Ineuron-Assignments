{
 "cells": [
  {
   "cell_type": "code",
   "execution_count": 1,
   "id": "a66222bc",
   "metadata": {},
   "outputs": [
    {
     "name": "stdout",
     "output_type": "stream",
     "text": [
      "Smallest number in the list: 1\n"
     ]
    }
   ],
   "source": [
    "def find_smallest(lst):\n",
    "    return min(lst)\n",
    "\n",
    "my_list = [5, 2, 8, 1, 6]\n",
    "result = find_smallest(my_list)\n",
    "print(\"Smallest number in the list:\", result)\n"
   ]
  },
  {
   "cell_type": "code",
   "execution_count": 2,
   "id": "c671eb9f",
   "metadata": {},
   "outputs": [
    {
     "name": "stdout",
     "output_type": "stream",
     "text": [
      "Largest number in the list: 8\n"
     ]
    }
   ],
   "source": [
    "def find_largest(lst):\n",
    "    return max(lst)\n",
    "\n",
    "my_list = [5, 2, 8, 1, 6]\n",
    "result = find_largest(my_list)\n",
    "print(\"Largest number in the list:\", result)\n"
   ]
  },
  {
   "cell_type": "code",
   "execution_count": 3,
   "id": "359493d2",
   "metadata": {},
   "outputs": [
    {
     "name": "stdout",
     "output_type": "stream",
     "text": [
      "Second largest number in the list: 6\n"
     ]
    }
   ],
   "source": [
    "def find_second_largest(lst):\n",
    "    unique_numbers = set(lst)\n",
    "    unique_numbers.remove(max(unique_numbers))\n",
    "    return max(unique_numbers)\n",
    "\n",
    "my_list = [5, 2, 8, 1, 6]\n",
    "result = find_second_largest(my_list)\n",
    "print(\"Second largest number in the list:\", result)\n"
   ]
  },
  {
   "cell_type": "code",
   "execution_count": 4,
   "id": "e0d84996",
   "metadata": {},
   "outputs": [
    {
     "name": "stdout",
     "output_type": "stream",
     "text": [
      "3 largest elements in the list: [10, 8, 7]\n"
     ]
    }
   ],
   "source": [
    "def find_n_largest(lst, n):\n",
    "    return sorted(lst, reverse=True)[:n]\n",
    "\n",
    "my_list = [5, 2, 8, 1, 6, 10, 7]\n",
    "n = 3\n",
    "result = find_n_largest(my_list, n)\n",
    "print(f\"{n} largest elements in the list:\", result)\n"
   ]
  },
  {
   "cell_type": "code",
   "execution_count": 5,
   "id": "b2d5b922",
   "metadata": {},
   "outputs": [
    {
     "name": "stdout",
     "output_type": "stream",
     "text": [
      "Even numbers in the list: [2, 4, 6, 8, 10]\n"
     ]
    }
   ],
   "source": [
    "def print_even_numbers(lst):\n",
    "    even_numbers = [num for num in lst if num % 2 == 0]\n",
    "    print(\"Even numbers in the list:\", even_numbers)\n",
    "\n",
    "my_list = [1, 2, 3, 4, 5, 6, 7, 8, 9, 10]\n",
    "print_even_numbers(my_list)\n"
   ]
  },
  {
   "cell_type": "code",
   "execution_count": 6,
   "id": "e9c40c02",
   "metadata": {},
   "outputs": [
    {
     "name": "stdout",
     "output_type": "stream",
     "text": [
      "Odd numbers in the list: [1, 3, 5, 7, 9]\n"
     ]
    }
   ],
   "source": [
    "def print_odd_numbers(lst):\n",
    "    odd_numbers = [num for num in lst if num % 2 != 0]\n",
    "    print(\"Odd numbers in the list:\", odd_numbers)\n",
    "\n",
    "my_list = [1, 2, 3, 4, 5, 6, 7, 8, 9, 10]\n",
    "print_odd_numbers(my_list)\n"
   ]
  },
  {
   "cell_type": "code",
   "execution_count": 9,
   "id": "b78855b6",
   "metadata": {},
   "outputs": [
    {
     "name": "stdout",
     "output_type": "stream",
     "text": [
      "Even numbers in the range: [2, 4, 6, 8, 10]\n"
     ]
    }
   ],
   "source": [
    "def print_even_numbers_in_range(start, end):\n",
    "    even_numbers = [num for num in range(start, end + 1) if num % 2 == 0]\n",
    "    print(\"Even numbers in the range:\", even_numbers)\n",
    "\n",
    "print_even_numbers_in_range(1, 10)\n"
   ]
  },
  {
   "cell_type": "code",
   "execution_count": 8,
   "id": "5d306d5c",
   "metadata": {},
   "outputs": [
    {
     "name": "stdout",
     "output_type": "stream",
     "text": [
      "Odd numbers in the range: [1, 3, 5, 7, 9]\n"
     ]
    }
   ],
   "source": [
    "def print_odd_numbers_in_range(start, end):\n",
    "    odd_numbers = [num for num in range(start, end + 1) if num % 2 != 0]\n",
    "    print(\"Odd numbers in the range:\", odd_numbers)\n",
    "\n",
    "print_odd_numbers_in_range(1, 10)\n"
   ]
  },
  {
   "cell_type": "code",
   "execution_count": 10,
   "id": "dc6a859a",
   "metadata": {},
   "outputs": [
    {
     "name": "stdout",
     "output_type": "stream",
     "text": [
      "Positive numbers in the list: [2, 4, 6, 8, 10]\n"
     ]
    }
   ],
   "source": [
    "def print_positive_numbers(lst):\n",
    "    positive_numbers = [num for num in lst if num > 0]\n",
    "    print(\"Positive numbers in the list:\", positive_numbers)\n",
    "\n",
    "my_list = [-1, 2, -3, 4, -5, 6, -7, 8, -9, 10]\n",
    "print_positive_numbers(my_list)\n"
   ]
  },
  {
   "cell_type": "code",
   "execution_count": 11,
   "id": "26bcee7b",
   "metadata": {},
   "outputs": [
    {
     "name": "stdout",
     "output_type": "stream",
     "text": [
      "Negative numbers in the list: [-1, -3, -5, -7, -9]\n"
     ]
    }
   ],
   "source": [
    "def print_negative_numbers(lst):\n",
    "    negative_numbers = [num for num in lst if num < 0]\n",
    "    print(\"Negative numbers in the list:\", negative_numbers)\n",
    "\n",
    "my_list = [-1, 2, -3, 4, -5, 6, -7, 8, -9, 10]\n",
    "print_negative_numbers(my_list)\n"
   ]
  },
  {
   "cell_type": "code",
   "execution_count": null,
   "id": "8cfff3ce",
   "metadata": {},
   "outputs": [],
   "source": []
  },
  {
   "cell_type": "code",
   "execution_count": 13,
   "id": "3ec27bc5",
   "metadata": {},
   "outputs": [
    {
     "name": "stdout",
     "output_type": "stream",
     "text": [
      "Positive numbers in the range: [1, 2, 3, 4, 5]\n"
     ]
    }
   ],
   "source": [
    "def print_positive_numbers_in_range(start, end):\n",
    "    positive_numbers = [num for num in range(start, end + 1) if num > 0]\n",
    "    print(\"Positive numbers in the range:\", positive_numbers)\n",
    "\n",
    "print_positive_numbers_in_range(-5, 5)\n"
   ]
  },
  {
   "cell_type": "code",
   "execution_count": null,
   "id": "6de4547f",
   "metadata": {},
   "outputs": [],
   "source": []
  }
 ],
 "metadata": {
  "kernelspec": {
   "display_name": "Python 3 (ipykernel)",
   "language": "python",
   "name": "python3"
  },
  "language_info": {
   "codemirror_mode": {
    "name": "ipython",
    "version": 3
   },
   "file_extension": ".py",
   "mimetype": "text/x-python",
   "name": "python",
   "nbconvert_exporter": "python",
   "pygments_lexer": "ipython3",
   "version": "3.11.3"
  }
 },
 "nbformat": 4,
 "nbformat_minor": 5
}
