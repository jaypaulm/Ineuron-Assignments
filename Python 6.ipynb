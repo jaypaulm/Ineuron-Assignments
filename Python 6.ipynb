{
 "cells": [
  {
   "cell_type": "code",
   "execution_count": 1,
   "id": "1712d6f4",
   "metadata": {},
   "outputs": [
    {
     "name": "stdout",
     "output_type": "stream",
     "text": [
      "Sum of matrices:\n",
      "[10, 10, 10]\n",
      "[10, 10, 10]\n",
      "[10, 10, 10]\n"
     ]
    }
   ],
   "source": [
    "def add_matrices(matrix1, matrix2):\n",
    "    result = [[matrix1[i][j] + matrix2[i][j] for j in range(len(matrix1[0]))] for i in range(len(matrix1))]\n",
    "    return result\n",
    "\n",
    "matrix1 = [[1, 2, 3], [4, 5, 6], [7, 8, 9]]\n",
    "matrix2 = [[9, 8, 7], [6, 5, 4], [3, 2, 1]]\n",
    "result = add_matrices(matrix1, matrix2)\n",
    "print(\"Sum of matrices:\")\n",
    "for row in result:\n",
    "    print(row)\n"
   ]
  },
  {
   "cell_type": "code",
   "execution_count": 3,
   "id": "ea8b2256",
   "metadata": {},
   "outputs": [
    {
     "name": "stdout",
     "output_type": "stream",
     "text": [
      "Product of matrices:\n",
      "[30, 24, 18]\n",
      "[84, 69, 54]\n",
      "[138, 114, 90]\n"
     ]
    }
   ],
   "source": [
    "def multiply_matrices(matrix1, matrix2):\n",
    "    result = [[sum(matrix1[i][k] * matrix2[k][j] for k in range(len(matrix2))) for j in range(len(matrix2[0]))] for i in range(len(matrix1))]\n",
    "    return result\n",
    "\n",
    "matrix1 = [[1, 2, 3], [4, 5, 6], [7, 8, 9]]\n",
    "matrix2 = [[9, 8, 7], [6, 5, 4], [3, 2, 1]]\n",
    "result = multiply_matrices(matrix1, matrix2)\n",
    "print(\"Product of matrices:\")\n",
    "for row in result:\n",
    "    print(row)\n"
   ]
  },
  {
   "cell_type": "code",
   "execution_count": 4,
   "id": "56db3772",
   "metadata": {},
   "outputs": [
    {
     "name": "stdout",
     "output_type": "stream",
     "text": [
      "Matrix product:\n",
      "[30, 24, 18]\n",
      "[84, 69, 54]\n",
      "[138, 114, 90]\n"
     ]
    }
   ],
   "source": [
    "def matrix_product(matrix1, matrix2):\n",
    "    result = [[sum(matrix1[i][k] * matrix2[k][j] for k in range(len(matrix2))) for j in range(len(matrix2[0]))] for i in range(len(matrix1))]\n",
    "    return result\n",
    "\n",
    "matrix1 = [[1, 2, 3], [4, 5, 6], [7, 8, 9]]\n",
    "matrix2 = [[9, 8, 7], [6, 5, 4], [3, 2, 1]]\n",
    "result = matrix_product(matrix1, matrix2)\n",
    "print(\"Matrix product:\")\n",
    "for row in result:\n",
    "    print(row)\n"
   ]
  },
  {
   "cell_type": "code",
   "execution_count": 5,
   "id": "80cef02a",
   "metadata": {},
   "outputs": [
    {
     "name": "stdout",
     "output_type": "stream",
     "text": [
      "Sum of matrices:\n",
      "[10, 10, 10]\n",
      "[10, 10, 10]\n",
      "[10, 10, 10]\n",
      "Difference of matrices:\n",
      "[-8, -6, -4]\n",
      "[-2, 0, 2]\n",
      "[4, 6, 8]\n"
     ]
    }
   ],
   "source": [
    "def add_matrices(matrix1, matrix2):\n",
    "    result_addition = [[matrix1[i][j] + matrix2[i][j] for j in range(len(matrix1[0]))] for i in range(len(matrix1))]\n",
    "    result_subtraction = [[matrix1[i][j] - matrix2[i][j] for j in range(len(matrix1[0]))] for i in range(len(matrix1))]\n",
    "    return result_addition, result_subtraction\n",
    "\n",
    "matrix1 = [[1, 2, 3], [4, 5, 6], [7, 8, 9]]\n",
    "matrix2 = [[9, 8, 7], [6, 5, 4], [3, 2, 1]]\n",
    "result_add, result_sub = add_matrices(matrix1, matrix2)\n",
    "print(\"Sum of matrices:\")\n",
    "for row in result_add:\n",
    "    print(row)\n",
    "print(\"Difference of matrices:\")\n",
    "for row in result_sub:\n",
    "    print(row)\n"
   ]
  },
  {
   "cell_type": "code",
   "execution_count": 7,
   "id": "af2d09b3",
   "metadata": {},
   "outputs": [
    {
     "name": "stdout",
     "output_type": "stream",
     "text": [
      "Original matrix:\n",
      "[1, 2, 3]\n",
      "[4, 5, 6]\n",
      "[7, 8, 9]\n",
      "Transposed matrix:\n",
      "[1, 4, 7]\n",
      "[2, 5, 8]\n",
      "[3, 6, 9]\n"
     ]
    }
   ],
   "source": [
    "matrix = [[1, 2, 3], [4, 5, 6], [7, 8, 9]]\n",
    "transpose_matrix = [[row[i] for row in matrix] for i in range(len(matrix[0]))]\n",
    "print(\"Original matrix:\")\n",
    "for row in matrix:\n",
    "    print(row)\n",
    "print(\"Transposed matrix:\")\n",
    "for row in transpose_matrix:\n",
    "    print(row)\n"
   ]
  },
  {
   "cell_type": "code",
   "execution_count": 8,
   "id": "86fb3004",
   "metadata": {},
   "outputs": [
    {
     "name": "stdout",
     "output_type": "stream",
     "text": [
      "Matrix of size 3 x 3 initialized to zeros:\n",
      "[0, 0, 0]\n",
      "[0, 0, 0]\n",
      "[0, 0, 0]\n"
     ]
    }
   ],
   "source": [
    "n = 3\n",
    "matrix = [[0] * n for _ in range(n)]\n",
    "print(\"Matrix of size\", n, \"x\", n, \"initialized to zeros:\")\n",
    "for row in matrix:\n",
    "    print(row)\n"
   ]
  },
  {
   "cell_type": "code",
   "execution_count": 9,
   "id": "3dee8f8b",
   "metadata": {},
   "outputs": [
    {
     "name": "stdout",
     "output_type": "stream",
     "text": [
      "1th column of the matrix:\n",
      "[2, 5, 8]\n"
     ]
    }
   ],
   "source": [
    "def get_kth_column(matrix, k):\n",
    "    return [row[k] for row in matrix]\n",
    "\n",
    "matrix = [[1, 2, 3], [4, 5, 6], [7, 8, 9]]\n",
    "k = 1\n",
    "result = get_kth_column(matrix, k)\n",
    "print(f\"{k}th column of the matrix:\")\n",
    "print(result)\n"
   ]
  },
  {
   "cell_type": "code",
   "execution_count": 10,
   "id": "6ebe415f",
   "metadata": {},
   "outputs": [
    {
     "name": "stdout",
     "output_type": "stream",
     "text": [
      "Vertical concatenation of matrices:\n",
      "[1, 2, 3]\n",
      "[4, 5, 6]\n",
      "[7, 8, 9]\n",
      "[10, 11, 12]\n"
     ]
    }
   ],
   "source": [
    "matrix1 = [[1, 2, 3], [4, 5, 6]]\n",
    "matrix2 = [[7, 8, 9], [10, 11, 12]]\n",
    "result = matrix1 + matrix2\n",
    "print(\"Vertical concatenation of matrices:\")\n",
    "for row in result:\n",
    "    print(row)\n"
   ]
  },
  {
   "cell_type": "code",
   "execution_count": 11,
   "id": "1eba4395",
   "metadata": {},
   "outputs": [
    {
     "name": "stdout",
     "output_type": "stream",
     "text": [
      "Is 'radar' a palindrome? True\n"
     ]
    }
   ],
   "source": [
    "def is_palindrome(s):\n",
    "    return s == s[::-1]\n",
    "\n",
    "string = \"radar\"\n",
    "result = is_palindrome(string)\n",
    "print(f\"Is '{string}' a palindrome? {result}\")\n"
   ]
  },
  {
   "cell_type": "code",
   "execution_count": 12,
   "id": "066727ca",
   "metadata": {},
   "outputs": [
    {
     "name": "stdout",
     "output_type": "stream",
     "text": [
      "Is 'radar' symmetrical? True\n",
      "Is 'radar' a palindrome? True\n"
     ]
    }
   ],
   "source": [
    "def is_symmetrical(s):\n",
    "    return s == s[::-1]\n",
    "\n",
    "string = \"level\"\n",
    "result_symmetrical = is_symmetrical(string)\n",
    "\n",
    "string = \"radar\"\n",
    "result_palindrome = is_symmetrical(string)\n",
    "\n",
    "print(f\"Is '{string}' symmetrical? {result_symmetrical}\")\n",
    "print(f\"Is '{string}' a palindrome? {result_palindrome}\")\n"
   ]
  },
  {
   "cell_type": "code",
   "execution_count": null,
   "id": "6455ce1b",
   "metadata": {},
   "outputs": [],
   "source": []
  }
 ],
 "metadata": {
  "kernelspec": {
   "display_name": "Python 3 (ipykernel)",
   "language": "python",
   "name": "python3"
  },
  "language_info": {
   "codemirror_mode": {
    "name": "ipython",
    "version": 3
   },
   "file_extension": ".py",
   "mimetype": "text/x-python",
   "name": "python",
   "nbconvert_exporter": "python",
   "pygments_lexer": "ipython3",
   "version": "3.11.3"
  }
 },
 "nbformat": 4,
 "nbformat_minor": 5
}
