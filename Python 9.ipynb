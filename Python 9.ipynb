{
 "cells": [
  {
   "cell_type": "code",
   "execution_count": 1,
   "id": "5177539e",
   "metadata": {},
   "outputs": [
    {
     "name": "stdout",
     "output_type": "stream",
     "text": [
      "String after replacement: Replace fruit and fruit with K\n"
     ]
    }
   ],
   "source": [
    "def replace_words_with_k(input_string, words_to_replace, k):\n",
    "    for word in words_to_replace:\n",
    "        input_string = input_string.replace(word, k)\n",
    "    return input_string\n",
    "\n",
    "input_string = \"Replace apple and orange with K\"\n",
    "words_to_replace = [\"apple\", \"orange\"]\n",
    "k = \"fruit\"\n",
    "result = replace_words_with_k(input_string, words_to_replace, k)\n",
    "print(\"String after replacement:\", result)\n"
   ]
  },
  {
   "cell_type": "code",
   "execution_count": 13,
   "id": "d6e1a2ab",
   "metadata": {},
   "outputs": [
    {
     "name": "stdout",
     "output_type": "stream",
     "text": [
      "Permutations of the string: ['abc', 'acb', 'bac', 'bca', 'cab', 'cba']\n"
     ]
    }
   ],
   "source": [
    " from itertools import permutations\n",
    "\n",
    "def string_permutations(input_string):\n",
    "    perms = [''.join(p) for p in permutations(input_string)]\n",
    "    return perms\n",
    "\n",
    "input_string = \"abc\"\n",
    "result = string_permutations(input_string)\n",
    "print(\"Permutations of the string:\", result)\n",
    "\n"
   ]
  },
  {
   "cell_type": "code",
   "execution_count": 4,
   "id": "7ef1d1e1",
   "metadata": {},
   "outputs": [
    {
     "name": "stdout",
     "output_type": "stream",
     "text": [
      "Does the string contain a URL? True\n"
     ]
    }
   ],
   "source": [
    "import re\n",
    "\n",
    "def contains_url(input_string):\n",
    "    url_pattern = re.compile(r'https?://\\S+')\n",
    "    return bool(url_pattern.search(input_string))\n",
    "\n",
    "input_string = \"Visit our website at https://www.example.com\"\n",
    "result = contains_url(input_string)\n",
    "print(f\"Does the string contain a URL? {result}\")\n"
   ]
  },
  {
   "cell_type": "code",
   "execution_count": 5,
   "id": "287d148b",
   "metadata": {},
   "outputs": [
    {
     "name": "stdout",
     "output_type": "stream",
     "text": [
      "25\n"
     ]
    }
   ],
   "source": [
    "code_to_execute = \"\"\"\n",
    "def square(x):\n",
    "    return x ** 2\n",
    "\n",
    "result = square(5)\n",
    "print(result)\n",
    "\"\"\"\n",
    "\n",
    "exec(code_to_execute)\n"
   ]
  },
  {
   "cell_type": "code",
   "execution_count": 8,
   "id": "b56ef662",
   "metadata": {},
   "outputs": [
    {
     "name": "stdout",
     "output_type": "stream",
     "text": [
      "String after rotating by 3 positions: honpyt\n"
     ]
    }
   ],
   "source": [
    "def rotate_string(input_string, k):\n",
    "    rotated_string = input_string[k:] + input_string[:k]\n",
    "    return rotated_string\n",
    "\n",
    "input_string = \"python\"\n",
    "k = 3\n",
    "result = rotate_string(input_string, k)\n",
    "print(f\"String after rotating by {k} positions:\", result)\n"
   ]
  },
  {
   "cell_type": "code",
   "execution_count": 7,
   "id": "b500a57c",
   "metadata": {},
   "outputs": [
    {
     "name": "stdout",
     "output_type": "stream",
     "text": [
      "Can the string become empty by recursive deletion? True\n"
     ]
    }
   ],
   "source": [
    "def is_empty_by_deletion(input_string, target_string):\n",
    "    while input_string != target_string:\n",
    "        if not input_string.startswith(target_string):\n",
    "            return False\n",
    "        input_string = input_string[len(target_string):]\n",
    "    return True\n",
    "\n",
    "input_string = \"abcabcabc\"\n",
    "target_string = \"abc\"\n",
    "result = is_empty_by_deletion(input_string, target_string)\n",
    "print(f\"Can the string become empty by recursive deletion? {result}\")\n"
   ]
  },
  {
   "cell_type": "code",
   "execution_count": 9,
   "id": "128ee892",
   "metadata": {},
   "outputs": [
    {
     "name": "stdout",
     "output_type": "stream",
     "text": [
      "Duplicate characters in the string: ['r', 'g', 'm']\n"
     ]
    }
   ],
   "source": [
    "from collections import Counter\n",
    "\n",
    "def find_duplicate_characters(input_string):\n",
    "    char_counts = Counter(input_string)\n",
    "    duplicates = [char for char, count in char_counts.items() if count > 1]\n",
    "    return duplicates\n",
    "\n",
    "input_string = \"programming\"\n",
    "result = find_duplicate_characters(input_string)\n",
    "print(\"Duplicate characters in the string:\", result)\n"
   ]
  },
  {
   "cell_type": "code",
   "execution_count": 10,
   "id": "db532a16",
   "metadata": {},
   "outputs": [
    {
     "name": "stdout",
     "output_type": "stream",
     "text": [
      "String after replacement: Java is great. Java is powerful.\n"
     ]
    }
   ],
   "source": [
    "def replace_substring(input_string, old_substring, new_substring):\n",
    "    result = input_string.replace(old_substring, new_substring)\n",
    "    return result\n",
    "\n",
    "input_string = \"Python is great. Python is powerful.\"\n",
    "old_substring = \"Python\"\n",
    "new_substring = \"Java\"\n",
    "result = replace_substring(input_string, old_substring, new_substring)\n",
    "print(\"String after replacement:\", result)\n"
   ]
  },
  {
   "cell_type": "code",
   "execution_count": 11,
   "id": "3669ca5c",
   "metadata": {},
   "outputs": [
    {
     "name": "stdout",
     "output_type": "stream",
     "text": [
      "Unique values from dictionary values: [1, 2, 3, 4, 5]\n"
     ]
    }
   ],
   "source": [
    "def extract_unique_values(dictionary):\n",
    "    unique_values = set(value for values in dictionary.values() for value in values)\n",
    "    return list(unique_values)\n",
    "\n",
    "my_dict = {'a': [1, 2, 3], 'b': [2, 3, 4], 'c': [3, 4, 5]}\n",
    "result = extract_unique_values(my_dict)\n",
    "print(\"Unique values from dictionary values:\", result)\n"
   ]
  },
  {
   "cell_type": "code",
   "execution_count": 12,
   "id": "4e67b425",
   "metadata": {},
   "outputs": [
    {
     "name": "stdout",
     "output_type": "stream",
     "text": [
      "Sum of dictionary items: 60\n"
     ]
    }
   ],
   "source": [
    "def sum_of_dictionary_items(dictionary):\n",
    "    return sum(dictionary.values())\n",
    "\n",
    "my_dict = {'a': 10, 'b': 20, 'c': 30}\n",
    "result = sum_of_dictionary_items(my_dict)\n",
    "print(\"Sum of dictionary items:\", result)\n"
   ]
  },
  {
   "cell_type": "code",
   "execution_count": null,
   "id": "6430a9af",
   "metadata": {},
   "outputs": [],
   "source": []
  }
 ],
 "metadata": {
  "kernelspec": {
   "display_name": "Python 3 (ipykernel)",
   "language": "python",
   "name": "python3"
  },
  "language_info": {
   "codemirror_mode": {
    "name": "ipython",
    "version": 3
   },
   "file_extension": ".py",
   "mimetype": "text/x-python",
   "name": "python",
   "nbconvert_exporter": "python",
   "pygments_lexer": "ipython3",
   "version": "3.11.3"
  }
 },
 "nbformat": 4,
 "nbformat_minor": 5
}
